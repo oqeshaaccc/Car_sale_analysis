{
  "nbformat": 4,
  "nbformat_minor": 0,
  "metadata": {
    "colab": {
      "provenance": [],
      "include_colab_link": true
    },
    "kernelspec": {
      "name": "python3",
      "display_name": "Python 3"
    },
    "language_info": {
      "name": "python"
    }
  },
  "cells": [
    {
      "cell_type": "markdown",
      "metadata": {
        "id": "view-in-github",
        "colab_type": "text"
      },
      "source": [
        "<a href=\"https://colab.research.google.com/github/oqeshaaccc/Car_sale_analysis/blob/main/Car_Sales_EDA.ipynb\" target=\"_parent\"><img src=\"https://colab.research.google.com/assets/colab-badge.svg\" alt=\"Open In Colab\"/></a>"
      ]
    },
    {
      "cell_type": "markdown",
      "source": [
        "# **Car Sales Analysis**"
      ],
      "metadata": {
        "id": "mJeq5It-1wkq"
      }
    },
    {
      "cell_type": "markdown",
      "source": [
        "## Import Packages"
      ],
      "metadata": {
        "id": "ufWbPI6S1mSk"
      }
    },
    {
      "cell_type": "code",
      "execution_count": 22,
      "metadata": {
        "id": "2Ds9DCIleXts"
      },
      "outputs": [],
      "source": [
        "import numpy as np\n",
        "import pandas as pd\n",
        "import matplotlib.pyplot as plt"
      ]
    },
    {
      "cell_type": "markdown",
      "source": [
        "## Creating the DataFrame for the csv Input"
      ],
      "metadata": {
        "id": "fltqA2ZQ11hv"
      }
    },
    {
      "cell_type": "code",
      "source": [
        "data = pd.read_csv(\"Car_sales.csv\")\n",
        "data.head()"
      ],
      "metadata": {
        "colab": {
          "base_uri": "https://localhost:8080/",
          "height": 270
        },
        "id": "LEf0zg-hehtv",
        "outputId": "b9ae69bd-9d7e-4844-f20a-b55c9cd2da5f"
      },
      "execution_count": 23,
      "outputs": [
        {
          "output_type": "execute_result",
          "data": {
            "text/plain": [
              "  Manufacturer    Model  Sales_in_thousands  __year_resale_value Vehicle_type  \\\n",
              "0        Acura  Integra              16.919               16.360    Passenger   \n",
              "1        Acura       TL              39.384               19.875    Passenger   \n",
              "2        Acura       CL              14.114               18.225    Passenger   \n",
              "3        Acura       RL               8.588               29.725    Passenger   \n",
              "4         Audi       A4              20.397               22.255    Passenger   \n",
              "\n",
              "   Price_in_thousands  Engine_size  Horsepower  Wheelbase  Width  Length  \\\n",
              "0               21.50          1.8       140.0      101.2   67.3   172.4   \n",
              "1               28.40          3.2       225.0      108.1   70.3   192.9   \n",
              "2                 NaN          3.2       225.0      106.9   70.6   192.0   \n",
              "3               42.00          3.5       210.0      114.6   71.4   196.6   \n",
              "4               23.99          1.8       150.0      102.6   68.2   178.0   \n",
              "\n",
              "   Curb_weight  Fuel_capacity  Fuel_efficiency Latest_Launch  \\\n",
              "0        2.639           13.2             28.0      2/2/2012   \n",
              "1        3.517           17.2             25.0      6/3/2011   \n",
              "2        3.470           17.2             26.0      1/4/2012   \n",
              "3        3.850           18.0             22.0     3/10/2011   \n",
              "4        2.998           16.4             27.0     10/8/2011   \n",
              "\n",
              "   Power_perf_factor  \n",
              "0          58.280150  \n",
              "1          91.370778  \n",
              "2                NaN  \n",
              "3          91.389779  \n",
              "4          62.777639  "
            ],
            "text/html": [
              "\n",
              "  <div id=\"df-8ff45eff-619f-47f6-acf3-b6a8cd13afa5\">\n",
              "    <div class=\"colab-df-container\">\n",
              "      <div>\n",
              "<style scoped>\n",
              "    .dataframe tbody tr th:only-of-type {\n",
              "        vertical-align: middle;\n",
              "    }\n",
              "\n",
              "    .dataframe tbody tr th {\n",
              "        vertical-align: top;\n",
              "    }\n",
              "\n",
              "    .dataframe thead th {\n",
              "        text-align: right;\n",
              "    }\n",
              "</style>\n",
              "<table border=\"1\" class=\"dataframe\">\n",
              "  <thead>\n",
              "    <tr style=\"text-align: right;\">\n",
              "      <th></th>\n",
              "      <th>Manufacturer</th>\n",
              "      <th>Model</th>\n",
              "      <th>Sales_in_thousands</th>\n",
              "      <th>__year_resale_value</th>\n",
              "      <th>Vehicle_type</th>\n",
              "      <th>Price_in_thousands</th>\n",
              "      <th>Engine_size</th>\n",
              "      <th>Horsepower</th>\n",
              "      <th>Wheelbase</th>\n",
              "      <th>Width</th>\n",
              "      <th>Length</th>\n",
              "      <th>Curb_weight</th>\n",
              "      <th>Fuel_capacity</th>\n",
              "      <th>Fuel_efficiency</th>\n",
              "      <th>Latest_Launch</th>\n",
              "      <th>Power_perf_factor</th>\n",
              "    </tr>\n",
              "  </thead>\n",
              "  <tbody>\n",
              "    <tr>\n",
              "      <th>0</th>\n",
              "      <td>Acura</td>\n",
              "      <td>Integra</td>\n",
              "      <td>16.919</td>\n",
              "      <td>16.360</td>\n",
              "      <td>Passenger</td>\n",
              "      <td>21.50</td>\n",
              "      <td>1.8</td>\n",
              "      <td>140.0</td>\n",
              "      <td>101.2</td>\n",
              "      <td>67.3</td>\n",
              "      <td>172.4</td>\n",
              "      <td>2.639</td>\n",
              "      <td>13.2</td>\n",
              "      <td>28.0</td>\n",
              "      <td>2/2/2012</td>\n",
              "      <td>58.280150</td>\n",
              "    </tr>\n",
              "    <tr>\n",
              "      <th>1</th>\n",
              "      <td>Acura</td>\n",
              "      <td>TL</td>\n",
              "      <td>39.384</td>\n",
              "      <td>19.875</td>\n",
              "      <td>Passenger</td>\n",
              "      <td>28.40</td>\n",
              "      <td>3.2</td>\n",
              "      <td>225.0</td>\n",
              "      <td>108.1</td>\n",
              "      <td>70.3</td>\n",
              "      <td>192.9</td>\n",
              "      <td>3.517</td>\n",
              "      <td>17.2</td>\n",
              "      <td>25.0</td>\n",
              "      <td>6/3/2011</td>\n",
              "      <td>91.370778</td>\n",
              "    </tr>\n",
              "    <tr>\n",
              "      <th>2</th>\n",
              "      <td>Acura</td>\n",
              "      <td>CL</td>\n",
              "      <td>14.114</td>\n",
              "      <td>18.225</td>\n",
              "      <td>Passenger</td>\n",
              "      <td>NaN</td>\n",
              "      <td>3.2</td>\n",
              "      <td>225.0</td>\n",
              "      <td>106.9</td>\n",
              "      <td>70.6</td>\n",
              "      <td>192.0</td>\n",
              "      <td>3.470</td>\n",
              "      <td>17.2</td>\n",
              "      <td>26.0</td>\n",
              "      <td>1/4/2012</td>\n",
              "      <td>NaN</td>\n",
              "    </tr>\n",
              "    <tr>\n",
              "      <th>3</th>\n",
              "      <td>Acura</td>\n",
              "      <td>RL</td>\n",
              "      <td>8.588</td>\n",
              "      <td>29.725</td>\n",
              "      <td>Passenger</td>\n",
              "      <td>42.00</td>\n",
              "      <td>3.5</td>\n",
              "      <td>210.0</td>\n",
              "      <td>114.6</td>\n",
              "      <td>71.4</td>\n",
              "      <td>196.6</td>\n",
              "      <td>3.850</td>\n",
              "      <td>18.0</td>\n",
              "      <td>22.0</td>\n",
              "      <td>3/10/2011</td>\n",
              "      <td>91.389779</td>\n",
              "    </tr>\n",
              "    <tr>\n",
              "      <th>4</th>\n",
              "      <td>Audi</td>\n",
              "      <td>A4</td>\n",
              "      <td>20.397</td>\n",
              "      <td>22.255</td>\n",
              "      <td>Passenger</td>\n",
              "      <td>23.99</td>\n",
              "      <td>1.8</td>\n",
              "      <td>150.0</td>\n",
              "      <td>102.6</td>\n",
              "      <td>68.2</td>\n",
              "      <td>178.0</td>\n",
              "      <td>2.998</td>\n",
              "      <td>16.4</td>\n",
              "      <td>27.0</td>\n",
              "      <td>10/8/2011</td>\n",
              "      <td>62.777639</td>\n",
              "    </tr>\n",
              "  </tbody>\n",
              "</table>\n",
              "</div>\n",
              "      <button class=\"colab-df-convert\" onclick=\"convertToInteractive('df-8ff45eff-619f-47f6-acf3-b6a8cd13afa5')\"\n",
              "              title=\"Convert this dataframe to an interactive table.\"\n",
              "              style=\"display:none;\">\n",
              "        \n",
              "  <svg xmlns=\"http://www.w3.org/2000/svg\" height=\"24px\"viewBox=\"0 0 24 24\"\n",
              "       width=\"24px\">\n",
              "    <path d=\"M0 0h24v24H0V0z\" fill=\"none\"/>\n",
              "    <path d=\"M18.56 5.44l.94 2.06.94-2.06 2.06-.94-2.06-.94-.94-2.06-.94 2.06-2.06.94zm-11 1L8.5 8.5l.94-2.06 2.06-.94-2.06-.94L8.5 2.5l-.94 2.06-2.06.94zm10 10l.94 2.06.94-2.06 2.06-.94-2.06-.94-.94-2.06-.94 2.06-2.06.94z\"/><path d=\"M17.41 7.96l-1.37-1.37c-.4-.4-.92-.59-1.43-.59-.52 0-1.04.2-1.43.59L10.3 9.45l-7.72 7.72c-.78.78-.78 2.05 0 2.83L4 21.41c.39.39.9.59 1.41.59.51 0 1.02-.2 1.41-.59l7.78-7.78 2.81-2.81c.8-.78.8-2.07 0-2.86zM5.41 20L4 18.59l7.72-7.72 1.47 1.35L5.41 20z\"/>\n",
              "  </svg>\n",
              "      </button>\n",
              "      \n",
              "  <style>\n",
              "    .colab-df-container {\n",
              "      display:flex;\n",
              "      flex-wrap:wrap;\n",
              "      gap: 12px;\n",
              "    }\n",
              "\n",
              "    .colab-df-convert {\n",
              "      background-color: #E8F0FE;\n",
              "      border: none;\n",
              "      border-radius: 50%;\n",
              "      cursor: pointer;\n",
              "      display: none;\n",
              "      fill: #1967D2;\n",
              "      height: 32px;\n",
              "      padding: 0 0 0 0;\n",
              "      width: 32px;\n",
              "    }\n",
              "\n",
              "    .colab-df-convert:hover {\n",
              "      background-color: #E2EBFA;\n",
              "      box-shadow: 0px 1px 2px rgba(60, 64, 67, 0.3), 0px 1px 3px 1px rgba(60, 64, 67, 0.15);\n",
              "      fill: #174EA6;\n",
              "    }\n",
              "\n",
              "    [theme=dark] .colab-df-convert {\n",
              "      background-color: #3B4455;\n",
              "      fill: #D2E3FC;\n",
              "    }\n",
              "\n",
              "    [theme=dark] .colab-df-convert:hover {\n",
              "      background-color: #434B5C;\n",
              "      box-shadow: 0px 1px 3px 1px rgba(0, 0, 0, 0.15);\n",
              "      filter: drop-shadow(0px 1px 2px rgba(0, 0, 0, 0.3));\n",
              "      fill: #FFFFFF;\n",
              "    }\n",
              "  </style>\n",
              "\n",
              "      <script>\n",
              "        const buttonEl =\n",
              "          document.querySelector('#df-8ff45eff-619f-47f6-acf3-b6a8cd13afa5 button.colab-df-convert');\n",
              "        buttonEl.style.display =\n",
              "          google.colab.kernel.accessAllowed ? 'block' : 'none';\n",
              "\n",
              "        async function convertToInteractive(key) {\n",
              "          const element = document.querySelector('#df-8ff45eff-619f-47f6-acf3-b6a8cd13afa5');\n",
              "          const dataTable =\n",
              "            await google.colab.kernel.invokeFunction('convertToInteractive',\n",
              "                                                     [key], {});\n",
              "          if (!dataTable) return;\n",
              "\n",
              "          const docLinkHtml = 'Like what you see? Visit the ' +\n",
              "            '<a target=\"_blank\" href=https://colab.research.google.com/notebooks/data_table.ipynb>data table notebook</a>'\n",
              "            + ' to learn more about interactive tables.';\n",
              "          element.innerHTML = '';\n",
              "          dataTable['output_type'] = 'display_data';\n",
              "          await google.colab.output.renderOutput(dataTable, element);\n",
              "          const docLink = document.createElement('div');\n",
              "          docLink.innerHTML = docLinkHtml;\n",
              "          element.appendChild(docLink);\n",
              "        }\n",
              "      </script>\n",
              "    </div>\n",
              "  </div>\n",
              "  "
            ]
          },
          "metadata": {},
          "execution_count": 23
        }
      ]
    },
    {
      "cell_type": "markdown",
      "source": [
        "## Data Processing and Cleaning"
      ],
      "metadata": {
        "id": "L5OvX6Wco_bo"
      }
    },
    {
      "cell_type": "markdown",
      "source": [
        "##### Checking for NaN values in our data"
      ],
      "metadata": {
        "id": "9kxSKMd0pS7h"
      }
    },
    {
      "cell_type": "code",
      "source": [
        "data.isna().sum()"
      ],
      "metadata": {
        "id": "PiiwQBsFembW",
        "colab": {
          "base_uri": "https://localhost:8080/"
        },
        "outputId": "aa69d3ca-1488-47d3-e303-d423dfc0aedc"
      },
      "execution_count": 24,
      "outputs": [
        {
          "output_type": "execute_result",
          "data": {
            "text/plain": [
              "Manufacturer            0\n",
              "Model                   0\n",
              "Sales_in_thousands      0\n",
              "__year_resale_value    36\n",
              "Vehicle_type            0\n",
              "Price_in_thousands      2\n",
              "Engine_size             1\n",
              "Horsepower              1\n",
              "Wheelbase               1\n",
              "Width                   1\n",
              "Length                  1\n",
              "Curb_weight             2\n",
              "Fuel_capacity           1\n",
              "Fuel_efficiency         3\n",
              "Latest_Launch           0\n",
              "Power_perf_factor       2\n",
              "dtype: int64"
            ]
          },
          "metadata": {},
          "execution_count": 24
        }
      ]
    },
    {
      "cell_type": "markdown",
      "source": [
        "##### What are the types of data we have in the columns of the data"
      ],
      "metadata": {
        "id": "qPrl4vMspht1"
      }
    },
    {
      "cell_type": "code",
      "source": [
        "data.dtypes"
      ],
      "metadata": {
        "id": "gzlal1Iaesc2",
        "colab": {
          "base_uri": "https://localhost:8080/"
        },
        "outputId": "9b28c42c-044e-4142-92ab-2fc4da41baa8"
      },
      "execution_count": 25,
      "outputs": [
        {
          "output_type": "execute_result",
          "data": {
            "text/plain": [
              "Manufacturer            object\n",
              "Model                   object\n",
              "Sales_in_thousands     float64\n",
              "__year_resale_value    float64\n",
              "Vehicle_type            object\n",
              "Price_in_thousands     float64\n",
              "Engine_size            float64\n",
              "Horsepower             float64\n",
              "Wheelbase              float64\n",
              "Width                  float64\n",
              "Length                 float64\n",
              "Curb_weight            float64\n",
              "Fuel_capacity          float64\n",
              "Fuel_efficiency        float64\n",
              "Latest_Launch           object\n",
              "Power_perf_factor      float64\n",
              "dtype: object"
            ]
          },
          "metadata": {},
          "execution_count": 25
        }
      ]
    },
    {
      "cell_type": "markdown",
      "source": [
        "##### Dropped the column, **__year_resale_value**, from the DataFrame since it has too many NaN values and will not be useful in our analysis."
      ],
      "metadata": {
        "id": "zlqhKTZnpv1j"
      }
    },
    {
      "cell_type": "code",
      "source": [
        "data.drop(['__year_resale_value'], axis=1, inplace=True)\n",
        "data.head()"
      ],
      "metadata": {
        "id": "_D_tRTsbex9l",
        "colab": {
          "base_uri": "https://localhost:8080/",
          "height": 270
        },
        "outputId": "fe0b23cb-0121-409e-fd80-846f191fb2ea"
      },
      "execution_count": 26,
      "outputs": [
        {
          "output_type": "execute_result",
          "data": {
            "text/plain": [
              "  Manufacturer    Model  Sales_in_thousands Vehicle_type  Price_in_thousands  \\\n",
              "0        Acura  Integra              16.919    Passenger               21.50   \n",
              "1        Acura       TL              39.384    Passenger               28.40   \n",
              "2        Acura       CL              14.114    Passenger                 NaN   \n",
              "3        Acura       RL               8.588    Passenger               42.00   \n",
              "4         Audi       A4              20.397    Passenger               23.99   \n",
              "\n",
              "   Engine_size  Horsepower  Wheelbase  Width  Length  Curb_weight  \\\n",
              "0          1.8       140.0      101.2   67.3   172.4        2.639   \n",
              "1          3.2       225.0      108.1   70.3   192.9        3.517   \n",
              "2          3.2       225.0      106.9   70.6   192.0        3.470   \n",
              "3          3.5       210.0      114.6   71.4   196.6        3.850   \n",
              "4          1.8       150.0      102.6   68.2   178.0        2.998   \n",
              "\n",
              "   Fuel_capacity  Fuel_efficiency Latest_Launch  Power_perf_factor  \n",
              "0           13.2             28.0      2/2/2012          58.280150  \n",
              "1           17.2             25.0      6/3/2011          91.370778  \n",
              "2           17.2             26.0      1/4/2012                NaN  \n",
              "3           18.0             22.0     3/10/2011          91.389779  \n",
              "4           16.4             27.0     10/8/2011          62.777639  "
            ],
            "text/html": [
              "\n",
              "  <div id=\"df-9d61899f-5ac8-44c9-9d06-418f8f00b0c1\">\n",
              "    <div class=\"colab-df-container\">\n",
              "      <div>\n",
              "<style scoped>\n",
              "    .dataframe tbody tr th:only-of-type {\n",
              "        vertical-align: middle;\n",
              "    }\n",
              "\n",
              "    .dataframe tbody tr th {\n",
              "        vertical-align: top;\n",
              "    }\n",
              "\n",
              "    .dataframe thead th {\n",
              "        text-align: right;\n",
              "    }\n",
              "</style>\n",
              "<table border=\"1\" class=\"dataframe\">\n",
              "  <thead>\n",
              "    <tr style=\"text-align: right;\">\n",
              "      <th></th>\n",
              "      <th>Manufacturer</th>\n",
              "      <th>Model</th>\n",
              "      <th>Sales_in_thousands</th>\n",
              "      <th>Vehicle_type</th>\n",
              "      <th>Price_in_thousands</th>\n",
              "      <th>Engine_size</th>\n",
              "      <th>Horsepower</th>\n",
              "      <th>Wheelbase</th>\n",
              "      <th>Width</th>\n",
              "      <th>Length</th>\n",
              "      <th>Curb_weight</th>\n",
              "      <th>Fuel_capacity</th>\n",
              "      <th>Fuel_efficiency</th>\n",
              "      <th>Latest_Launch</th>\n",
              "      <th>Power_perf_factor</th>\n",
              "    </tr>\n",
              "  </thead>\n",
              "  <tbody>\n",
              "    <tr>\n",
              "      <th>0</th>\n",
              "      <td>Acura</td>\n",
              "      <td>Integra</td>\n",
              "      <td>16.919</td>\n",
              "      <td>Passenger</td>\n",
              "      <td>21.50</td>\n",
              "      <td>1.8</td>\n",
              "      <td>140.0</td>\n",
              "      <td>101.2</td>\n",
              "      <td>67.3</td>\n",
              "      <td>172.4</td>\n",
              "      <td>2.639</td>\n",
              "      <td>13.2</td>\n",
              "      <td>28.0</td>\n",
              "      <td>2/2/2012</td>\n",
              "      <td>58.280150</td>\n",
              "    </tr>\n",
              "    <tr>\n",
              "      <th>1</th>\n",
              "      <td>Acura</td>\n",
              "      <td>TL</td>\n",
              "      <td>39.384</td>\n",
              "      <td>Passenger</td>\n",
              "      <td>28.40</td>\n",
              "      <td>3.2</td>\n",
              "      <td>225.0</td>\n",
              "      <td>108.1</td>\n",
              "      <td>70.3</td>\n",
              "      <td>192.9</td>\n",
              "      <td>3.517</td>\n",
              "      <td>17.2</td>\n",
              "      <td>25.0</td>\n",
              "      <td>6/3/2011</td>\n",
              "      <td>91.370778</td>\n",
              "    </tr>\n",
              "    <tr>\n",
              "      <th>2</th>\n",
              "      <td>Acura</td>\n",
              "      <td>CL</td>\n",
              "      <td>14.114</td>\n",
              "      <td>Passenger</td>\n",
              "      <td>NaN</td>\n",
              "      <td>3.2</td>\n",
              "      <td>225.0</td>\n",
              "      <td>106.9</td>\n",
              "      <td>70.6</td>\n",
              "      <td>192.0</td>\n",
              "      <td>3.470</td>\n",
              "      <td>17.2</td>\n",
              "      <td>26.0</td>\n",
              "      <td>1/4/2012</td>\n",
              "      <td>NaN</td>\n",
              "    </tr>\n",
              "    <tr>\n",
              "      <th>3</th>\n",
              "      <td>Acura</td>\n",
              "      <td>RL</td>\n",
              "      <td>8.588</td>\n",
              "      <td>Passenger</td>\n",
              "      <td>42.00</td>\n",
              "      <td>3.5</td>\n",
              "      <td>210.0</td>\n",
              "      <td>114.6</td>\n",
              "      <td>71.4</td>\n",
              "      <td>196.6</td>\n",
              "      <td>3.850</td>\n",
              "      <td>18.0</td>\n",
              "      <td>22.0</td>\n",
              "      <td>3/10/2011</td>\n",
              "      <td>91.389779</td>\n",
              "    </tr>\n",
              "    <tr>\n",
              "      <th>4</th>\n",
              "      <td>Audi</td>\n",
              "      <td>A4</td>\n",
              "      <td>20.397</td>\n",
              "      <td>Passenger</td>\n",
              "      <td>23.99</td>\n",
              "      <td>1.8</td>\n",
              "      <td>150.0</td>\n",
              "      <td>102.6</td>\n",
              "      <td>68.2</td>\n",
              "      <td>178.0</td>\n",
              "      <td>2.998</td>\n",
              "      <td>16.4</td>\n",
              "      <td>27.0</td>\n",
              "      <td>10/8/2011</td>\n",
              "      <td>62.777639</td>\n",
              "    </tr>\n",
              "  </tbody>\n",
              "</table>\n",
              "</div>\n",
              "      <button class=\"colab-df-convert\" onclick=\"convertToInteractive('df-9d61899f-5ac8-44c9-9d06-418f8f00b0c1')\"\n",
              "              title=\"Convert this dataframe to an interactive table.\"\n",
              "              style=\"display:none;\">\n",
              "        \n",
              "  <svg xmlns=\"http://www.w3.org/2000/svg\" height=\"24px\"viewBox=\"0 0 24 24\"\n",
              "       width=\"24px\">\n",
              "    <path d=\"M0 0h24v24H0V0z\" fill=\"none\"/>\n",
              "    <path d=\"M18.56 5.44l.94 2.06.94-2.06 2.06-.94-2.06-.94-.94-2.06-.94 2.06-2.06.94zm-11 1L8.5 8.5l.94-2.06 2.06-.94-2.06-.94L8.5 2.5l-.94 2.06-2.06.94zm10 10l.94 2.06.94-2.06 2.06-.94-2.06-.94-.94-2.06-.94 2.06-2.06.94z\"/><path d=\"M17.41 7.96l-1.37-1.37c-.4-.4-.92-.59-1.43-.59-.52 0-1.04.2-1.43.59L10.3 9.45l-7.72 7.72c-.78.78-.78 2.05 0 2.83L4 21.41c.39.39.9.59 1.41.59.51 0 1.02-.2 1.41-.59l7.78-7.78 2.81-2.81c.8-.78.8-2.07 0-2.86zM5.41 20L4 18.59l7.72-7.72 1.47 1.35L5.41 20z\"/>\n",
              "  </svg>\n",
              "      </button>\n",
              "      \n",
              "  <style>\n",
              "    .colab-df-container {\n",
              "      display:flex;\n",
              "      flex-wrap:wrap;\n",
              "      gap: 12px;\n",
              "    }\n",
              "\n",
              "    .colab-df-convert {\n",
              "      background-color: #E8F0FE;\n",
              "      border: none;\n",
              "      border-radius: 50%;\n",
              "      cursor: pointer;\n",
              "      display: none;\n",
              "      fill: #1967D2;\n",
              "      height: 32px;\n",
              "      padding: 0 0 0 0;\n",
              "      width: 32px;\n",
              "    }\n",
              "\n",
              "    .colab-df-convert:hover {\n",
              "      background-color: #E2EBFA;\n",
              "      box-shadow: 0px 1px 2px rgba(60, 64, 67, 0.3), 0px 1px 3px 1px rgba(60, 64, 67, 0.15);\n",
              "      fill: #174EA6;\n",
              "    }\n",
              "\n",
              "    [theme=dark] .colab-df-convert {\n",
              "      background-color: #3B4455;\n",
              "      fill: #D2E3FC;\n",
              "    }\n",
              "\n",
              "    [theme=dark] .colab-df-convert:hover {\n",
              "      background-color: #434B5C;\n",
              "      box-shadow: 0px 1px 3px 1px rgba(0, 0, 0, 0.15);\n",
              "      filter: drop-shadow(0px 1px 2px rgba(0, 0, 0, 0.3));\n",
              "      fill: #FFFFFF;\n",
              "    }\n",
              "  </style>\n",
              "\n",
              "      <script>\n",
              "        const buttonEl =\n",
              "          document.querySelector('#df-9d61899f-5ac8-44c9-9d06-418f8f00b0c1 button.colab-df-convert');\n",
              "        buttonEl.style.display =\n",
              "          google.colab.kernel.accessAllowed ? 'block' : 'none';\n",
              "\n",
              "        async function convertToInteractive(key) {\n",
              "          const element = document.querySelector('#df-9d61899f-5ac8-44c9-9d06-418f8f00b0c1');\n",
              "          const dataTable =\n",
              "            await google.colab.kernel.invokeFunction('convertToInteractive',\n",
              "                                                     [key], {});\n",
              "          if (!dataTable) return;\n",
              "\n",
              "          const docLinkHtml = 'Like what you see? Visit the ' +\n",
              "            '<a target=\"_blank\" href=https://colab.research.google.com/notebooks/data_table.ipynb>data table notebook</a>'\n",
              "            + ' to learn more about interactive tables.';\n",
              "          element.innerHTML = '';\n",
              "          dataTable['output_type'] = 'display_data';\n",
              "          await google.colab.output.renderOutput(dataTable, element);\n",
              "          const docLink = document.createElement('div');\n",
              "          docLink.innerHTML = docLinkHtml;\n",
              "          element.appendChild(docLink);\n",
              "        }\n",
              "      </script>\n",
              "    </div>\n",
              "  </div>\n",
              "  "
            ]
          },
          "metadata": {},
          "execution_count": 26
        }
      ]
    },
    {
      "cell_type": "markdown",
      "source": [
        "##### Replacing the Nan values in our columns with either mean, median, or mode depending on the rest of the values in each column respectively."
      ],
      "metadata": {
        "id": "wx0j1jBjqo0k"
      }
    },
    {
      "cell_type": "markdown",
      "source": [
        "Replacing Nan values in **Horsepower** with the mode"
      ],
      "metadata": {
        "id": "BQW96uqNrgtZ"
      }
    },
    {
      "cell_type": "code",
      "source": [
        "hp_mode = data['Horsepower'].mode()[0]\n",
        "data['Horsepower'].replace(np.nan, hp_mode, inplace=True)"
      ],
      "metadata": {
        "id": "qDcjWjJqf9jQ"
      },
      "execution_count": 27,
      "outputs": []
    },
    {
      "cell_type": "markdown",
      "source": [
        "Replacing Nan values in **Price_in_thousands** with the mean"
      ],
      "metadata": {
        "id": "H_kOpVO9rrsJ"
      }
    },
    {
      "cell_type": "code",
      "source": [
        "price_mean = data['Price_in_thousands'].mean()\n",
        "data['Price_in_thousands'].replace(np.nan, price_mean, inplace=True)"
      ],
      "metadata": {
        "id": "BjuEVwVdgglw"
      },
      "execution_count": 28,
      "outputs": []
    },
    {
      "cell_type": "markdown",
      "source": [
        "Replacing Nan values in **Engine_size** with the mode"
      ],
      "metadata": {
        "id": "Us4bxsior2T6"
      }
    },
    {
      "cell_type": "code",
      "source": [
        "es_mode = data['Engine_size'].mode()[0]\n",
        "data['Engine_size'].replace(np.nan, es_mode, inplace=True)"
      ],
      "metadata": {
        "id": "6zVLrseghIUM"
      },
      "execution_count": 29,
      "outputs": []
    },
    {
      "cell_type": "markdown",
      "source": [
        "Replacing Nan values in **Wheelbase** with the median"
      ],
      "metadata": {
        "id": "3XCiW4f9sBsx"
      }
    },
    {
      "cell_type": "code",
      "source": [
        "wb_median = data['Wheelbase'].median()\n",
        "data['Wheelbase'].replace(np.nan, wb_median, inplace=True)"
      ],
      "metadata": {
        "id": "_GU7mu7MiuLh"
      },
      "execution_count": 30,
      "outputs": []
    },
    {
      "cell_type": "markdown",
      "source": [
        "Replacing Nan values in **Width** & **Length** with the mean"
      ],
      "metadata": {
        "id": "gEwHwYcBsFne"
      }
    },
    {
      "cell_type": "code",
      "source": [
        "width_mean = data['Width'].mean()\n",
        "length_mean = data['Length'].mean()\n",
        "\n",
        "data['Width'].replace(np.nan, width_mean, inplace=True)\n",
        "data['Length'].replace(np.nan, length_mean, inplace=True)"
      ],
      "metadata": {
        "id": "kDnlnaL9jP47"
      },
      "execution_count": 31,
      "outputs": []
    },
    {
      "cell_type": "markdown",
      "source": [
        "Replacing Nan values in **Curb_weight** with the mean"
      ],
      "metadata": {
        "id": "MsspdOC8sVdn"
      }
    },
    {
      "cell_type": "code",
      "source": [
        "curb_mean = data['Curb_weight'].mean()\n",
        "data['Curb_weight'].replace(np.nan, curb_mean, inplace = True)"
      ],
      "metadata": {
        "id": "fRpi3lPmkank"
      },
      "execution_count": 32,
      "outputs": []
    },
    {
      "cell_type": "markdown",
      "source": [
        "Replacing Nan values in **Fuel_capacity** with the mode when the associated value in the row for Engine_size=2.0\n",
        "\n",
        "We did this because we replaced the NaN values in **Engine_size** with the mode which was 2. "
      ],
      "metadata": {
        "id": "v3wDqed3sbaB"
      }
    },
    {
      "cell_type": "code",
      "source": [
        "# data[data['Engine_size']==2.0]\n",
        "fc_mode = data.loc[data['Engine_size'] == 2.0, 'Fuel_capacity'].mode()[0]\n",
        "data['Fuel_capacity'].replace(np.nan, fc_mode, inplace=True)"
      ],
      "metadata": {
        "id": "cl0H-yUTlK9S"
      },
      "execution_count": 33,
      "outputs": []
    },
    {
      "cell_type": "markdown",
      "source": [
        "Replacing Nan values in **Fuel_efficiency** with the mode"
      ],
      "metadata": {
        "id": "f8miSOzAuJP6"
      }
    },
    {
      "cell_type": "code",
      "source": [
        "fe_mode = data['Fuel_efficiency'].mode()[0]\n",
        "data['Fuel_efficiency'].replace(np.nan, fe_mode, inplace=True)"
      ],
      "metadata": {
        "id": "9zW7i2dNm08M"
      },
      "execution_count": 34,
      "outputs": []
    },
    {
      "cell_type": "markdown",
      "source": [
        "Replacing Nan values in **Power_perf_factor** with the mean"
      ],
      "metadata": {
        "id": "cAeuD4SluQ2z"
      }
    },
    {
      "cell_type": "code",
      "source": [
        "power_perf_mean = data['Power_perf_factor'].mean()\n",
        "data['Power_perf_factor'].replace(np.nan, power_perf_mean, inplace=True)"
      ],
      "metadata": {
        "id": "dQQ4Ptxhqn0C"
      },
      "execution_count": 35,
      "outputs": []
    },
    {
      "cell_type": "markdown",
      "source": [
        "## View some Descriptive Stats of our Data"
      ],
      "metadata": {
        "id": "fJwq3rifrkjs"
      }
    },
    {
      "cell_type": "code",
      "source": [
        "data.shape"
      ],
      "metadata": {
        "id": "yjQsPbt8u9Xo",
        "colab": {
          "base_uri": "https://localhost:8080/"
        },
        "outputId": "9fe92229-255b-425b-e8e9-c525dd500fdd"
      },
      "execution_count": 36,
      "outputs": [
        {
          "output_type": "execute_result",
          "data": {
            "text/plain": [
              "(157, 15)"
            ]
          },
          "metadata": {},
          "execution_count": 36
        }
      ]
    },
    {
      "cell_type": "code",
      "source": [
        "data.columns"
      ],
      "metadata": {
        "id": "xnJno2GHvCng",
        "colab": {
          "base_uri": "https://localhost:8080/"
        },
        "outputId": "dfd342b3-dcdc-4c68-dc4c-13ed9a45062b"
      },
      "execution_count": 37,
      "outputs": [
        {
          "output_type": "execute_result",
          "data": {
            "text/plain": [
              "Index(['Manufacturer', 'Model', 'Sales_in_thousands', 'Vehicle_type',\n",
              "       'Price_in_thousands', 'Engine_size', 'Horsepower', 'Wheelbase', 'Width',\n",
              "       'Length', 'Curb_weight', 'Fuel_capacity', 'Fuel_efficiency',\n",
              "       'Latest_Launch', 'Power_perf_factor'],\n",
              "      dtype='object')"
            ]
          },
          "metadata": {},
          "execution_count": 37
        }
      ]
    },
    {
      "cell_type": "code",
      "source": [
        "data.describe()"
      ],
      "metadata": {
        "id": "ei7Lw2yMrq4L",
        "colab": {
          "base_uri": "https://localhost:8080/",
          "height": 364
        },
        "outputId": "f294427d-2f24-4ae6-a9cf-e54f6230f921"
      },
      "execution_count": 38,
      "outputs": [
        {
          "output_type": "execute_result",
          "data": {
            "text/plain": [
              "       Sales_in_thousands  Price_in_thousands  Engine_size  Horsepower  \\\n",
              "count          157.000000          157.000000   157.000000  157.000000   \n",
              "mean            52.998076           27.390755     3.054140  185.719745   \n",
              "std             68.029422           14.259359     1.044736   56.591070   \n",
              "min              0.110000            9.235000     1.000000   55.000000   \n",
              "25%             14.114000           18.145000     2.300000  150.000000   \n",
              "50%             29.450000           23.400000     3.000000  175.000000   \n",
              "75%             67.956000           31.930000     3.500000  215.000000   \n",
              "max            540.561000           85.500000     8.000000  450.000000   \n",
              "\n",
              "        Wheelbase      Width      Length  Curb_weight  Fuel_capacity  \\\n",
              "count  157.000000  157.00000  157.000000   157.000000     157.000000   \n",
              "mean   107.484076   71.15000  187.343590     3.378026      17.929936   \n",
              "std      7.616872    3.44079   13.388635     0.626447       3.885220   \n",
              "min     92.600000   62.60000  149.400000     1.895000      10.300000   \n",
              "25%    103.000000   68.40000  177.600000     2.975000      15.800000   \n",
              "50%    107.000000   70.60000  187.800000     3.368000      17.200000   \n",
              "75%    112.200000   73.40000  196.100000     3.778000      19.500000   \n",
              "max    138.700000   79.90000  224.500000     5.572000      32.000000   \n",
              "\n",
              "       Fuel_efficiency  Power_perf_factor  \n",
              "count       157.000000         157.000000  \n",
              "mean         23.866242          77.043591  \n",
              "std           4.244296          24.980973  \n",
              "min          15.000000          23.276272  \n",
              "25%          21.000000          60.727447  \n",
              "50%          24.000000          72.290355  \n",
              "75%          26.000000          89.401935  \n",
              "max          45.000000         188.144323  "
            ],
            "text/html": [
              "\n",
              "  <div id=\"df-35af5a85-83f2-4981-afb4-783d0ca5dcad\">\n",
              "    <div class=\"colab-df-container\">\n",
              "      <div>\n",
              "<style scoped>\n",
              "    .dataframe tbody tr th:only-of-type {\n",
              "        vertical-align: middle;\n",
              "    }\n",
              "\n",
              "    .dataframe tbody tr th {\n",
              "        vertical-align: top;\n",
              "    }\n",
              "\n",
              "    .dataframe thead th {\n",
              "        text-align: right;\n",
              "    }\n",
              "</style>\n",
              "<table border=\"1\" class=\"dataframe\">\n",
              "  <thead>\n",
              "    <tr style=\"text-align: right;\">\n",
              "      <th></th>\n",
              "      <th>Sales_in_thousands</th>\n",
              "      <th>Price_in_thousands</th>\n",
              "      <th>Engine_size</th>\n",
              "      <th>Horsepower</th>\n",
              "      <th>Wheelbase</th>\n",
              "      <th>Width</th>\n",
              "      <th>Length</th>\n",
              "      <th>Curb_weight</th>\n",
              "      <th>Fuel_capacity</th>\n",
              "      <th>Fuel_efficiency</th>\n",
              "      <th>Power_perf_factor</th>\n",
              "    </tr>\n",
              "  </thead>\n",
              "  <tbody>\n",
              "    <tr>\n",
              "      <th>count</th>\n",
              "      <td>157.000000</td>\n",
              "      <td>157.000000</td>\n",
              "      <td>157.000000</td>\n",
              "      <td>157.000000</td>\n",
              "      <td>157.000000</td>\n",
              "      <td>157.00000</td>\n",
              "      <td>157.000000</td>\n",
              "      <td>157.000000</td>\n",
              "      <td>157.000000</td>\n",
              "      <td>157.000000</td>\n",
              "      <td>157.000000</td>\n",
              "    </tr>\n",
              "    <tr>\n",
              "      <th>mean</th>\n",
              "      <td>52.998076</td>\n",
              "      <td>27.390755</td>\n",
              "      <td>3.054140</td>\n",
              "      <td>185.719745</td>\n",
              "      <td>107.484076</td>\n",
              "      <td>71.15000</td>\n",
              "      <td>187.343590</td>\n",
              "      <td>3.378026</td>\n",
              "      <td>17.929936</td>\n",
              "      <td>23.866242</td>\n",
              "      <td>77.043591</td>\n",
              "    </tr>\n",
              "    <tr>\n",
              "      <th>std</th>\n",
              "      <td>68.029422</td>\n",
              "      <td>14.259359</td>\n",
              "      <td>1.044736</td>\n",
              "      <td>56.591070</td>\n",
              "      <td>7.616872</td>\n",
              "      <td>3.44079</td>\n",
              "      <td>13.388635</td>\n",
              "      <td>0.626447</td>\n",
              "      <td>3.885220</td>\n",
              "      <td>4.244296</td>\n",
              "      <td>24.980973</td>\n",
              "    </tr>\n",
              "    <tr>\n",
              "      <th>min</th>\n",
              "      <td>0.110000</td>\n",
              "      <td>9.235000</td>\n",
              "      <td>1.000000</td>\n",
              "      <td>55.000000</td>\n",
              "      <td>92.600000</td>\n",
              "      <td>62.60000</td>\n",
              "      <td>149.400000</td>\n",
              "      <td>1.895000</td>\n",
              "      <td>10.300000</td>\n",
              "      <td>15.000000</td>\n",
              "      <td>23.276272</td>\n",
              "    </tr>\n",
              "    <tr>\n",
              "      <th>25%</th>\n",
              "      <td>14.114000</td>\n",
              "      <td>18.145000</td>\n",
              "      <td>2.300000</td>\n",
              "      <td>150.000000</td>\n",
              "      <td>103.000000</td>\n",
              "      <td>68.40000</td>\n",
              "      <td>177.600000</td>\n",
              "      <td>2.975000</td>\n",
              "      <td>15.800000</td>\n",
              "      <td>21.000000</td>\n",
              "      <td>60.727447</td>\n",
              "    </tr>\n",
              "    <tr>\n",
              "      <th>50%</th>\n",
              "      <td>29.450000</td>\n",
              "      <td>23.400000</td>\n",
              "      <td>3.000000</td>\n",
              "      <td>175.000000</td>\n",
              "      <td>107.000000</td>\n",
              "      <td>70.60000</td>\n",
              "      <td>187.800000</td>\n",
              "      <td>3.368000</td>\n",
              "      <td>17.200000</td>\n",
              "      <td>24.000000</td>\n",
              "      <td>72.290355</td>\n",
              "    </tr>\n",
              "    <tr>\n",
              "      <th>75%</th>\n",
              "      <td>67.956000</td>\n",
              "      <td>31.930000</td>\n",
              "      <td>3.500000</td>\n",
              "      <td>215.000000</td>\n",
              "      <td>112.200000</td>\n",
              "      <td>73.40000</td>\n",
              "      <td>196.100000</td>\n",
              "      <td>3.778000</td>\n",
              "      <td>19.500000</td>\n",
              "      <td>26.000000</td>\n",
              "      <td>89.401935</td>\n",
              "    </tr>\n",
              "    <tr>\n",
              "      <th>max</th>\n",
              "      <td>540.561000</td>\n",
              "      <td>85.500000</td>\n",
              "      <td>8.000000</td>\n",
              "      <td>450.000000</td>\n",
              "      <td>138.700000</td>\n",
              "      <td>79.90000</td>\n",
              "      <td>224.500000</td>\n",
              "      <td>5.572000</td>\n",
              "      <td>32.000000</td>\n",
              "      <td>45.000000</td>\n",
              "      <td>188.144323</td>\n",
              "    </tr>\n",
              "  </tbody>\n",
              "</table>\n",
              "</div>\n",
              "      <button class=\"colab-df-convert\" onclick=\"convertToInteractive('df-35af5a85-83f2-4981-afb4-783d0ca5dcad')\"\n",
              "              title=\"Convert this dataframe to an interactive table.\"\n",
              "              style=\"display:none;\">\n",
              "        \n",
              "  <svg xmlns=\"http://www.w3.org/2000/svg\" height=\"24px\"viewBox=\"0 0 24 24\"\n",
              "       width=\"24px\">\n",
              "    <path d=\"M0 0h24v24H0V0z\" fill=\"none\"/>\n",
              "    <path d=\"M18.56 5.44l.94 2.06.94-2.06 2.06-.94-2.06-.94-.94-2.06-.94 2.06-2.06.94zm-11 1L8.5 8.5l.94-2.06 2.06-.94-2.06-.94L8.5 2.5l-.94 2.06-2.06.94zm10 10l.94 2.06.94-2.06 2.06-.94-2.06-.94-.94-2.06-.94 2.06-2.06.94z\"/><path d=\"M17.41 7.96l-1.37-1.37c-.4-.4-.92-.59-1.43-.59-.52 0-1.04.2-1.43.59L10.3 9.45l-7.72 7.72c-.78.78-.78 2.05 0 2.83L4 21.41c.39.39.9.59 1.41.59.51 0 1.02-.2 1.41-.59l7.78-7.78 2.81-2.81c.8-.78.8-2.07 0-2.86zM5.41 20L4 18.59l7.72-7.72 1.47 1.35L5.41 20z\"/>\n",
              "  </svg>\n",
              "      </button>\n",
              "      \n",
              "  <style>\n",
              "    .colab-df-container {\n",
              "      display:flex;\n",
              "      flex-wrap:wrap;\n",
              "      gap: 12px;\n",
              "    }\n",
              "\n",
              "    .colab-df-convert {\n",
              "      background-color: #E8F0FE;\n",
              "      border: none;\n",
              "      border-radius: 50%;\n",
              "      cursor: pointer;\n",
              "      display: none;\n",
              "      fill: #1967D2;\n",
              "      height: 32px;\n",
              "      padding: 0 0 0 0;\n",
              "      width: 32px;\n",
              "    }\n",
              "\n",
              "    .colab-df-convert:hover {\n",
              "      background-color: #E2EBFA;\n",
              "      box-shadow: 0px 1px 2px rgba(60, 64, 67, 0.3), 0px 1px 3px 1px rgba(60, 64, 67, 0.15);\n",
              "      fill: #174EA6;\n",
              "    }\n",
              "\n",
              "    [theme=dark] .colab-df-convert {\n",
              "      background-color: #3B4455;\n",
              "      fill: #D2E3FC;\n",
              "    }\n",
              "\n",
              "    [theme=dark] .colab-df-convert:hover {\n",
              "      background-color: #434B5C;\n",
              "      box-shadow: 0px 1px 3px 1px rgba(0, 0, 0, 0.15);\n",
              "      filter: drop-shadow(0px 1px 2px rgba(0, 0, 0, 0.3));\n",
              "      fill: #FFFFFF;\n",
              "    }\n",
              "  </style>\n",
              "\n",
              "      <script>\n",
              "        const buttonEl =\n",
              "          document.querySelector('#df-35af5a85-83f2-4981-afb4-783d0ca5dcad button.colab-df-convert');\n",
              "        buttonEl.style.display =\n",
              "          google.colab.kernel.accessAllowed ? 'block' : 'none';\n",
              "\n",
              "        async function convertToInteractive(key) {\n",
              "          const element = document.querySelector('#df-35af5a85-83f2-4981-afb4-783d0ca5dcad');\n",
              "          const dataTable =\n",
              "            await google.colab.kernel.invokeFunction('convertToInteractive',\n",
              "                                                     [key], {});\n",
              "          if (!dataTable) return;\n",
              "\n",
              "          const docLinkHtml = 'Like what you see? Visit the ' +\n",
              "            '<a target=\"_blank\" href=https://colab.research.google.com/notebooks/data_table.ipynb>data table notebook</a>'\n",
              "            + ' to learn more about interactive tables.';\n",
              "          element.innerHTML = '';\n",
              "          dataTable['output_type'] = 'display_data';\n",
              "          await google.colab.output.renderOutput(dataTable, element);\n",
              "          const docLink = document.createElement('div');\n",
              "          docLink.innerHTML = docLinkHtml;\n",
              "          element.appendChild(docLink);\n",
              "        }\n",
              "      </script>\n",
              "    </div>\n",
              "  </div>\n",
              "  "
            ]
          },
          "metadata": {},
          "execution_count": 38
        }
      ]
    },
    {
      "cell_type": "code",
      "source": [
        "data.info()"
      ],
      "metadata": {
        "id": "b69XAUF1sELB",
        "colab": {
          "base_uri": "https://localhost:8080/"
        },
        "outputId": "6cfdf11a-6453-44d6-a642-3dcde56dbd09"
      },
      "execution_count": 39,
      "outputs": [
        {
          "output_type": "stream",
          "name": "stdout",
          "text": [
            "<class 'pandas.core.frame.DataFrame'>\n",
            "RangeIndex: 157 entries, 0 to 156\n",
            "Data columns (total 15 columns):\n",
            " #   Column              Non-Null Count  Dtype  \n",
            "---  ------              --------------  -----  \n",
            " 0   Manufacturer        157 non-null    object \n",
            " 1   Model               157 non-null    object \n",
            " 2   Sales_in_thousands  157 non-null    float64\n",
            " 3   Vehicle_type        157 non-null    object \n",
            " 4   Price_in_thousands  157 non-null    float64\n",
            " 5   Engine_size         157 non-null    float64\n",
            " 6   Horsepower          157 non-null    float64\n",
            " 7   Wheelbase           157 non-null    float64\n",
            " 8   Width               157 non-null    float64\n",
            " 9   Length              157 non-null    float64\n",
            " 10  Curb_weight         157 non-null    float64\n",
            " 11  Fuel_capacity       157 non-null    float64\n",
            " 12  Fuel_efficiency     157 non-null    float64\n",
            " 13  Latest_Launch       157 non-null    object \n",
            " 14  Power_perf_factor   157 non-null    float64\n",
            "dtypes: float64(11), object(4)\n",
            "memory usage: 18.5+ KB\n"
          ]
        }
      ]
    },
    {
      "cell_type": "markdown",
      "source": [
        "## Some quick analysis of our data"
      ],
      "metadata": {
        "id": "qhGbZT8CvcQ_"
      }
    },
    {
      "cell_type": "code",
      "source": [
        "data['Horsepower']"
      ],
      "metadata": {
        "id": "UHtquR30-sjW",
        "colab": {
          "base_uri": "https://localhost:8080/"
        },
        "outputId": "b68e6e5a-e482-4cef-935f-9a7e3264ba5f"
      },
      "execution_count": 40,
      "outputs": [
        {
          "output_type": "execute_result",
          "data": {
            "text/plain": [
              "0      140.0\n",
              "1      225.0\n",
              "2      225.0\n",
              "3      210.0\n",
              "4      150.0\n",
              "       ...  \n",
              "152    160.0\n",
              "153    168.0\n",
              "154    168.0\n",
              "155    236.0\n",
              "156    201.0\n",
              "Name: Horsepower, Length: 157, dtype: float64"
            ]
          },
          "metadata": {},
          "execution_count": 40
        }
      ]
    },
    {
      "cell_type": "markdown",
      "source": [
        "Creating a histogram displaying the frquency of Horsepower grouped into bins"
      ],
      "metadata": {
        "id": "yMNwMnN__G3a"
      }
    },
    {
      "cell_type": "code",
      "source": [
        "count, bin_edges = np.histogram(data['Horsepower'])\n",
        "\n",
        "print(count) # frequency count\n",
        "print(bin_edges) # bin ranges, default = 10 bins"
      ],
      "metadata": {
        "id": "hSEg_gzL-tpo",
        "colab": {
          "base_uri": "https://localhost:8080/"
        },
        "outputId": "109d4c57-b639-4aa3-dcfc-4efa34613808"
      },
      "execution_count": 41,
      "outputs": [
        {
          "output_type": "stream",
          "name": "stdout",
          "text": [
            "[ 2 27 45 42 22 10  7  1  0  1]\n",
            "[ 55.   94.5 134.  173.5 213.  252.5 292.  331.5 371.  410.5 450. ]\n"
          ]
        }
      ]
    },
    {
      "cell_type": "code",
      "source": [
        "data['Horsepower'].plot(kind='hist', figsize=(8, 5), xticks=bin_edges)\n",
        "\n",
        "plt.title('Frequency of Horse Power')\n",
        "plt.xlabel('Horse Power')"
      ],
      "metadata": {
        "id": "hYainrP2-0jp",
        "colab": {
          "base_uri": "https://localhost:8080/",
          "height": 504
        },
        "outputId": "f5aa5301-0317-4eef-dea5-64bf3a4b271a"
      },
      "execution_count": 42,
      "outputs": [
        {
          "output_type": "execute_result",
          "data": {
            "text/plain": [
              "Text(0.5, 0, 'Horse Power')"
            ]
          },
          "metadata": {},
          "execution_count": 42
        },
        {
          "output_type": "display_data",
          "data": {
            "text/plain": [
              "<Figure size 800x500 with 1 Axes>"
            ],
            "image/png": "[encoded data removed]"
          },
          "metadata": {}
        }
      ]
    },
    {
      "cell_type": "markdown",
      "source": [
        "Count of the amount of car sales each Car Manufacturer has in our data "
      ],
      "metadata": {
        "id": "vvYGy9u2vejx"
      }
    },
    {
      "cell_type": "code",
      "source": [
        "data['Manufacturer'].value_counts()"
      ],
      "metadata": {
        "id": "_5Y0Ho6qsG9V",
        "colab": {
          "base_uri": "https://localhost:8080/"
        },
        "outputId": "9a87ea77-fba9-49d5-a0d9-3ee6293cf451"
      },
      "execution_count": 43,
      "outputs": [
        {
          "output_type": "execute_result",
          "data": {
            "text/plain": [
              "Dodge         11\n",
              "Ford          11\n",
              "Toyota         9\n",
              "Chevrolet      9\n",
              "Mercedes-B     9\n",
              "Mitsubishi     7\n",
              "Nissan         7\n",
              "Chrysler       7\n",
              "Volvo          6\n",
              "Oldsmobile     6\n",
              "Lexus          6\n",
              "Mercury        6\n",
              "Pontiac        6\n",
              "Volkswagen     6\n",
              "Saturn         5\n",
              "Cadillac       5\n",
              "Honda          5\n",
              "Plymouth       4\n",
              "Acura          4\n",
              "Buick          4\n",
              "Audi           3\n",
              "Jeep           3\n",
              "Porsche        3\n",
              "Hyundai        3\n",
              "BMW            3\n",
              "Lincoln        3\n",
              "Saab           2\n",
              "Subaru         2\n",
              "Jaguar         1\n",
              "Infiniti       1\n",
              "Name: Manufacturer, dtype: int64"
            ]
          },
          "metadata": {},
          "execution_count": 43
        }
      ]
    },
    {
      "cell_type": "markdown",
      "source": [
        "Grouping the Data by Manufacturer and Model of the cars"
      ],
      "metadata": {
        "id": "8WIMI7lcwF8V"
      }
    },
    {
      "cell_type": "code",
      "source": [
        "data_new = data.groupby(['Manufacturer','Model']).sum()\n",
        "data_new"
      ],
      "metadata": {
        "id": "INwKTr7lsity",
        "colab": {
          "base_uri": "https://localhost:8080/",
          "height": 519
        },
        "outputId": "6084720d-19ec-41c1-d96a-ca962494134d"
      },
      "execution_count": 44,
      "outputs": [
        {
          "output_type": "execute_result",
          "data": {
            "text/plain": [
              "                      Sales_in_thousands  Price_in_thousands  Engine_size  \\\n",
              "Manufacturer Model                                                          \n",
              "Acura        CL                   14.114           27.390755          3.2   \n",
              "             Integra              16.919           21.500000          1.8   \n",
              "             RL                    8.588           42.000000          3.5   \n",
              "             TL                   39.384           28.400000          3.2   \n",
              "Audi         A4                   20.397           23.990000          1.8   \n",
              "...                                  ...                 ...          ...   \n",
              "Volvo        S40                  16.957           23.400000          1.9   \n",
              "             S70                  15.245           27.500000          2.4   \n",
              "             S80                  18.969           36.000000          2.9   \n",
              "             V40                   3.545           24.400000          1.9   \n",
              "             V70                  17.531           28.800000          2.4   \n",
              "\n",
              "                      Horsepower  Wheelbase  Width  Length  Curb_weight  \\\n",
              "Manufacturer Model                                                        \n",
              "Acura        CL            225.0      106.9   70.6   192.0        3.470   \n",
              "             Integra       140.0      101.2   67.3   172.4        2.639   \n",
              "             RL            210.0      114.6   71.4   196.6        3.850   \n",
              "             TL            225.0      108.1   70.3   192.9        3.517   \n",
              "Audi         A4            150.0      102.6   68.2   178.0        2.998   \n",
              "...                          ...        ...    ...     ...          ...   \n",
              "Volvo        S40           160.0      100.5   67.6   176.6        2.998   \n",
              "             S70           168.0      104.9   69.3   185.9        3.208   \n",
              "             S80           201.0      109.9   72.1   189.8        3.600   \n",
              "             V40           160.0      100.5   67.6   176.6        3.042   \n",
              "             V70           168.0      104.9   69.3   186.2        3.259   \n",
              "\n",
              "                      Fuel_capacity  Fuel_efficiency  Power_perf_factor  \n",
              "Manufacturer Model                                                       \n",
              "Acura        CL                17.2             26.0          77.043591  \n",
              "             Integra           13.2             28.0          58.280150  \n",
              "             RL                18.0             22.0          91.389779  \n",
              "             TL                17.2             25.0          91.370778  \n",
              "Audi         A4                16.4             27.0          62.777639  \n",
              "...                             ...              ...                ...  \n",
              "Volvo        S40               15.8             25.0          66.113057  \n",
              "             S70               17.9             25.0          70.654495  \n",
              "             S80               21.1             24.0          85.735655  \n",
              "             V40               15.8             25.0          66.498812  \n",
              "             V70               17.9             25.0          71.155978  \n",
              "\n",
              "[157 rows x 11 columns]"
            ],
            "text/html": [
              "\n",
              "  <div id=\"df-b7b032aa-8ab4-4248-b44c-ffcc4d05ddee\">\n",
              "    <div class=\"colab-df-container\">\n",
              "      <div>\n",
              "<style scoped>\n",
              "    .dataframe tbody tr th:only-of-type {\n",
              "        vertical-align: middle;\n",
              "    }\n",
              "\n",
              "    .dataframe tbody tr th {\n",
              "        vertical-align: top;\n",
              "    }\n",
              "\n",
              "    .dataframe thead th {\n",
              "        text-align: right;\n",
              "    }\n",
              "</style>\n",
              "<table border=\"1\" class=\"dataframe\">\n",
              "  <thead>\n",
              "    <tr style=\"text-align: right;\">\n",
              "      <th></th>\n",
              "      <th></th>\n",
              "      <th>Sales_in_thousands</th>\n",
              "      <th>Price_in_thousands</th>\n",
              "      <th>Engine_size</th>\n",
              "      <th>Horsepower</th>\n",
              "      <th>Wheelbase</th>\n",
              "      <th>Width</th>\n",
              "      <th>Length</th>\n",
              "      <th>Curb_weight</th>\n",
              "      <th>Fuel_capacity</th>\n",
              "      <th>Fuel_efficiency</th>\n",
              "      <th>Power_perf_factor</th>\n",
              "    </tr>\n",
              "    <tr>\n",
              "      <th>Manufacturer</th>\n",
              "      <th>Model</th>\n",
              "      <th></th>\n",
              "      <th></th>\n",
              "      <th></th>\n",
              "      <th></th>\n",
              "      <th></th>\n",
              "      <th></th>\n",
              "      <th></th>\n",
              "      <th></th>\n",
              "      <th></th>\n",
              "      <th></th>\n",
              "      <th></th>\n",
              "    </tr>\n",
              "  </thead>\n",
              "  <tbody>\n",
              "    <tr>\n",
              "      <th rowspan=\"4\" valign=\"top\">Acura</th>\n",
              "      <th>CL</th>\n",
              "      <td>14.114</td>\n",
              "      <td>27.390755</td>\n",
              "      <td>3.2</td>\n",
              "      <td>225.0</td>\n",
              "      <td>106.9</td>\n",
              "      <td>70.6</td>\n",
              "      <td>192.0</td>\n",
              "      <td>3.470</td>\n",
              "      <td>17.2</td>\n",
              "      <td>26.0</td>\n",
              "      <td>77.043591</td>\n",
              "    </tr>\n",
              "    <tr>\n",
              "      <th>Integra</th>\n",
              "      <td>16.919</td>\n",
              "      <td>21.500000</td>\n",
              "      <td>1.8</td>\n",
              "      <td>140.0</td>\n",
              "      <td>101.2</td>\n",
              "      <td>67.3</td>\n",
              "      <td>172.4</td>\n",
              "      <td>2.639</td>\n",
              "      <td>13.2</td>\n",
              "      <td>28.0</td>\n",
              "      <td>58.280150</td>\n",
              "    </tr>\n",
              "    <tr>\n",
              "      <th>RL</th>\n",
              "      <td>8.588</td>\n",
              "      <td>42.000000</td>\n",
              "      <td>3.5</td>\n",
              "      <td>210.0</td>\n",
              "      <td>114.6</td>\n",
              "      <td>71.4</td>\n",
              "      <td>196.6</td>\n",
              "      <td>3.850</td>\n",
              "      <td>18.0</td>\n",
              "      <td>22.0</td>\n",
              "      <td>91.389779</td>\n",
              "    </tr>\n",
              "    <tr>\n",
              "      <th>TL</th>\n",
              "      <td>39.384</td>\n",
              "      <td>28.400000</td>\n",
              "      <td>3.2</td>\n",
              "      <td>225.0</td>\n",
              "      <td>108.1</td>\n",
              "      <td>70.3</td>\n",
              "      <td>192.9</td>\n",
              "      <td>3.517</td>\n",
              "      <td>17.2</td>\n",
              "      <td>25.0</td>\n",
              "      <td>91.370778</td>\n",
              "    </tr>\n",
              "    <tr>\n",
              "      <th>Audi</th>\n",
              "      <th>A4</th>\n",
              "      <td>20.397</td>\n",
              "      <td>23.990000</td>\n",
              "      <td>1.8</td>\n",
              "      <td>150.0</td>\n",
              "      <td>102.6</td>\n",
              "      <td>68.2</td>\n",
              "      <td>178.0</td>\n",
              "      <td>2.998</td>\n",
              "      <td>16.4</td>\n",
              "      <td>27.0</td>\n",
              "      <td>62.777639</td>\n",
              "    </tr>\n",
              "    <tr>\n",
              "      <th>...</th>\n",
              "      <th>...</th>\n",
              "      <td>...</td>\n",
              "      <td>...</td>\n",
              "      <td>...</td>\n",
              "      <td>...</td>\n",
              "      <td>...</td>\n",
              "      <td>...</td>\n",
              "      <td>...</td>\n",
              "      <td>...</td>\n",
              "      <td>...</td>\n",
              "      <td>...</td>\n",
              "      <td>...</td>\n",
              "    </tr>\n",
              "    <tr>\n",
              "      <th rowspan=\"5\" valign=\"top\">Volvo</th>\n",
              "      <th>S40</th>\n",
              "      <td>16.957</td>\n",
              "      <td>23.400000</td>\n",
              "      <td>1.9</td>\n",
              "      <td>160.0</td>\n",
              "      <td>100.5</td>\n",
              "      <td>67.6</td>\n",
              "      <td>176.6</td>\n",
              "      <td>2.998</td>\n",
              "      <td>15.8</td>\n",
              "      <td>25.0</td>\n",
              "      <td>66.113057</td>\n",
              "    </tr>\n",
              "    <tr>\n",
              "      <th>S70</th>\n",
              "      <td>15.245</td>\n",
              "      <td>27.500000</td>\n",
              "      <td>2.4</td>\n",
              "      <td>168.0</td>\n",
              "      <td>104.9</td>\n",
              "      <td>69.3</td>\n",
              "      <td>185.9</td>\n",
              "      <td>3.208</td>\n",
              "      <td>17.9</td>\n",
              "      <td>25.0</td>\n",
              "      <td>70.654495</td>\n",
              "    </tr>\n",
              "    <tr>\n",
              "      <th>S80</th>\n",
              "      <td>18.969</td>\n",
              "      <td>36.000000</td>\n",
              "      <td>2.9</td>\n",
              "      <td>201.0</td>\n",
              "      <td>109.9</td>\n",
              "      <td>72.1</td>\n",
              "      <td>189.8</td>\n",
              "      <td>3.600</td>\n",
              "      <td>21.1</td>\n",
              "      <td>24.0</td>\n",
              "      <td>85.735655</td>\n",
              "    </tr>\n",
              "    <tr>\n",
              "      <th>V40</th>\n",
              "      <td>3.545</td>\n",
              "      <td>24.400000</td>\n",
              "      <td>1.9</td>\n",
              "      <td>160.0</td>\n",
              "      <td>100.5</td>\n",
              "      <td>67.6</td>\n",
              "      <td>176.6</td>\n",
              "      <td>3.042</td>\n",
              "      <td>15.8</td>\n",
              "      <td>25.0</td>\n",
              "      <td>66.498812</td>\n",
              "    </tr>\n",
              "    <tr>\n",
              "      <th>V70</th>\n",
              "      <td>17.531</td>\n",
              "      <td>28.800000</td>\n",
              "      <td>2.4</td>\n",
              "      <td>168.0</td>\n",
              "      <td>104.9</td>\n",
              "      <td>69.3</td>\n",
              "      <td>186.2</td>\n",
              "      <td>3.259</td>\n",
              "      <td>17.9</td>\n",
              "      <td>25.0</td>\n",
              "      <td>71.155978</td>\n",
              "    </tr>\n",
              "  </tbody>\n",
              "</table>\n",
              "<p>157 rows × 11 columns</p>\n",
              "</div>\n",
              "      <button class=\"colab-df-convert\" onclick=\"convertToInteractive('df-b7b032aa-8ab4-4248-b44c-ffcc4d05ddee')\"\n",
              "              title=\"Convert this dataframe to an interactive table.\"\n",
              "              style=\"display:none;\">\n",
              "        \n",
              "  <svg xmlns=\"http://www.w3.org/2000/svg\" height=\"24px\"viewBox=\"0 0 24 24\"\n",
              "       width=\"24px\">\n",
              "    <path d=\"M0 0h24v24H0V0z\" fill=\"none\"/>\n",
              "    <path d=\"M18.56 5.44l.94 2.06.94-2.06 2.06-.94-2.06-.94-.94-2.06-.94 2.06-2.06.94zm-11 1L8.5 8.5l.94-2.06 2.06-.94-2.06-.94L8.5 2.5l-.94 2.06-2.06.94zm10 10l.94 2.06.94-2.06 2.06-.94-2.06-.94-.94-2.06-.94 2.06-2.06.94z\"/><path d=\"M17.41 7.96l-1.37-1.37c-.4-.4-.92-.59-1.43-.59-.52 0-1.04.2-1.43.59L10.3 9.45l-7.72 7.72c-.78.78-.78 2.05 0 2.83L4 21.41c.39.39.9.59 1.41.59.51 0 1.02-.2 1.41-.59l7.78-7.78 2.81-2.81c.8-.78.8-2.07 0-2.86zM5.41 20L4 18.59l7.72-7.72 1.47 1.35L5.41 20z\"/>\n",
              "  </svg>\n",
              "      </button>\n",
              "      \n",
              "  <style>\n",
              "    .colab-df-container {\n",
              "      display:flex;\n",
              "      flex-wrap:wrap;\n",
              "      gap: 12px;\n",
              "    }\n",
              "\n",
              "    .colab-df-convert {\n",
              "      background-color: #E8F0FE;\n",
              "      border: none;\n",
              "      border-radius: 50%;\n",
              "      cursor: pointer;\n",
              "      display: none;\n",
              "      fill: #1967D2;\n",
              "      height: 32px;\n",
              "      padding: 0 0 0 0;\n",
              "      width: 32px;\n",
              "    }\n",
              "\n",
              "    .colab-df-convert:hover {\n",
              "      background-color: #E2EBFA;\n",
              "      box-shadow: 0px 1px 2px rgba(60, 64, 67, 0.3), 0px 1px 3px 1px rgba(60, 64, 67, 0.15);\n",
              "      fill: #174EA6;\n",
              "    }\n",
              "\n",
              "    [theme=dark] .colab-df-convert {\n",
              "      background-color: #3B4455;\n",
              "      fill: #D2E3FC;\n",
              "    }\n",
              "\n",
              "    [theme=dark] .colab-df-convert:hover {\n",
              "      background-color: #434B5C;\n",
              "      box-shadow: 0px 1px 3px 1px rgba(0, 0, 0, 0.15);\n",
              "      filter: drop-shadow(0px 1px 2px rgba(0, 0, 0, 0.3));\n",
              "      fill: #FFFFFF;\n",
              "    }\n",
              "  </style>\n",
              "\n",
              "      <script>\n",
              "        const buttonEl =\n",
              "          document.querySelector('#df-b7b032aa-8ab4-4248-b44c-ffcc4d05ddee button.colab-df-convert');\n",
              "        buttonEl.style.display =\n",
              "          google.colab.kernel.accessAllowed ? 'block' : 'none';\n",
              "\n",
              "        async function convertToInteractive(key) {\n",
              "          const element = document.querySelector('#df-b7b032aa-8ab4-4248-b44c-ffcc4d05ddee');\n",
              "          const dataTable =\n",
              "            await google.colab.kernel.invokeFunction('convertToInteractive',\n",
              "                                                     [key], {});\n",
              "          if (!dataTable) return;\n",
              "\n",
              "          const docLinkHtml = 'Like what you see? Visit the ' +\n",
              "            '<a target=\"_blank\" href=https://colab.research.google.com/notebooks/data_table.ipynb>data table notebook</a>'\n",
              "            + ' to learn more about interactive tables.';\n",
              "          element.innerHTML = '';\n",
              "          dataTable['output_type'] = 'display_data';\n",
              "          await google.colab.output.renderOutput(dataTable, element);\n",
              "          const docLink = document.createElement('div');\n",
              "          docLink.innerHTML = docLinkHtml;\n",
              "          element.appendChild(docLink);\n",
              "        }\n",
              "      </script>\n",
              "    </div>\n",
              "  </div>\n",
              "  "
            ]
          },
          "metadata": {},
          "execution_count": 44
        }
      ]
    },
    {
      "cell_type": "markdown",
      "source": [
        "Created a dataframe of cars Manufactured by Volvo"
      ],
      "metadata": {
        "id": "sCp_r0IqwZg7"
      }
    },
    {
      "cell_type": "code",
      "source": [
        "volvo_data = data[data['Manufacturer']=='Volvo']\n",
        "volvo_data"
      ],
      "metadata": {
        "id": "p8bYd-7ws1Ea",
        "colab": {
          "base_uri": "https://localhost:8080/",
          "height": 302
        },
        "outputId": "878e9b64-d712-4b49-ca45-9c1af26aeb34"
      },
      "execution_count": 45,
      "outputs": [
        {
          "output_type": "execute_result",
          "data": {
            "text/plain": [
              "    Manufacturer Model  Sales_in_thousands Vehicle_type  Price_in_thousands  \\\n",
              "151        Volvo   S40              16.957    Passenger                23.4   \n",
              "152        Volvo   V40               3.545    Passenger                24.4   \n",
              "153        Volvo   S70              15.245    Passenger                27.5   \n",
              "154        Volvo   V70              17.531    Passenger                28.8   \n",
              "155        Volvo   C70               3.493    Passenger                45.5   \n",
              "156        Volvo   S80              18.969    Passenger                36.0   \n",
              "\n",
              "     Engine_size  Horsepower  Wheelbase  Width  Length  Curb_weight  \\\n",
              "151          1.9       160.0      100.5   67.6   176.6        2.998   \n",
              "152          1.9       160.0      100.5   67.6   176.6        3.042   \n",
              "153          2.4       168.0      104.9   69.3   185.9        3.208   \n",
              "154          2.4       168.0      104.9   69.3   186.2        3.259   \n",
              "155          2.3       236.0      104.9   71.5   185.7        3.601   \n",
              "156          2.9       201.0      109.9   72.1   189.8        3.600   \n",
              "\n",
              "     Fuel_capacity  Fuel_efficiency Latest_Launch  Power_perf_factor  \n",
              "151           15.8             25.0     2/18/2011          66.113057  \n",
              "152           15.8             25.0     9/21/2011          66.498812  \n",
              "153           17.9             25.0    11/24/2012          70.654495  \n",
              "154           17.9             25.0     6/25/2011          71.155978  \n",
              "155           18.5             23.0     4/26/2011         101.623357  \n",
              "156           21.1             24.0    11/14/2011          85.735655  "
            ],
            "text/html": [
              "\n",
              "  <div id=\"df-676276bc-4ad9-4efd-a3cc-604202621850\">\n",
              "    <div class=\"colab-df-container\">\n",
              "      <div>\n",
              "<style scoped>\n",
              "    .dataframe tbody tr th:only-of-type {\n",
              "        vertical-align: middle;\n",
              "    }\n",
              "\n",
              "    .dataframe tbody tr th {\n",
              "        vertical-align: top;\n",
              "    }\n",
              "\n",
              "    .dataframe thead th {\n",
              "        text-align: right;\n",
              "    }\n",
              "</style>\n",
              "<table border=\"1\" class=\"dataframe\">\n",
              "  <thead>\n",
              "    <tr style=\"text-align: right;\">\n",
              "      <th></th>\n",
              "      <th>Manufacturer</th>\n",
              "      <th>Model</th>\n",
              "      <th>Sales_in_thousands</th>\n",
              "      <th>Vehicle_type</th>\n",
              "      <th>Price_in_thousands</th>\n",
              "      <th>Engine_size</th>\n",
              "      <th>Horsepower</th>\n",
              "      <th>Wheelbase</th>\n",
              "      <th>Width</th>\n",
              "      <th>Length</th>\n",
              "      <th>Curb_weight</th>\n",
              "      <th>Fuel_capacity</th>\n",
              "      <th>Fuel_efficiency</th>\n",
              "      <th>Latest_Launch</th>\n",
              "      <th>Power_perf_factor</th>\n",
              "    </tr>\n",
              "  </thead>\n",
              "  <tbody>\n",
              "    <tr>\n",
              "      <th>151</th>\n",
              "      <td>Volvo</td>\n",
              "      <td>S40</td>\n",
              "      <td>16.957</td>\n",
              "      <td>Passenger</td>\n",
              "      <td>23.4</td>\n",
              "      <td>1.9</td>\n",
              "      <td>160.0</td>\n",
              "      <td>100.5</td>\n",
              "      <td>67.6</td>\n",
              "      <td>176.6</td>\n",
              "      <td>2.998</td>\n",
              "      <td>15.8</td>\n",
              "      <td>25.0</td>\n",
              "      <td>2/18/2011</td>\n",
              "      <td>66.113057</td>\n",
              "    </tr>\n",
              "    <tr>\n",
              "      <th>152</th>\n",
              "      <td>Volvo</td>\n",
              "      <td>V40</td>\n",
              "      <td>3.545</td>\n",
              "      <td>Passenger</td>\n",
              "      <td>24.4</td>\n",
              "      <td>1.9</td>\n",
              "      <td>160.0</td>\n",
              "      <td>100.5</td>\n",
              "      <td>67.6</td>\n",
              "      <td>176.6</td>\n",
              "      <td>3.042</td>\n",
              "      <td>15.8</td>\n",
              "      <td>25.0</td>\n",
              "      <td>9/21/2011</td>\n",
              "      <td>66.498812</td>\n",
              "    </tr>\n",
              "    <tr>\n",
              "      <th>153</th>\n",
              "      <td>Volvo</td>\n",
              "      <td>S70</td>\n",
              "      <td>15.245</td>\n",
              "      <td>Passenger</td>\n",
              "      <td>27.5</td>\n",
              "      <td>2.4</td>\n",
              "      <td>168.0</td>\n",
              "      <td>104.9</td>\n",
              "      <td>69.3</td>\n",
              "      <td>185.9</td>\n",
              "      <td>3.208</td>\n",
              "      <td>17.9</td>\n",
              "      <td>25.0</td>\n",
              "      <td>11/24/2012</td>\n",
              "      <td>70.654495</td>\n",
              "    </tr>\n",
              "    <tr>\n",
              "      <th>154</th>\n",
              "      <td>Volvo</td>\n",
              "      <td>V70</td>\n",
              "      <td>17.531</td>\n",
              "      <td>Passenger</td>\n",
              "      <td>28.8</td>\n",
              "      <td>2.4</td>\n",
              "      <td>168.0</td>\n",
              "      <td>104.9</td>\n",
              "      <td>69.3</td>\n",
              "      <td>186.2</td>\n",
              "      <td>3.259</td>\n",
              "      <td>17.9</td>\n",
              "      <td>25.0</td>\n",
              "      <td>6/25/2011</td>\n",
              "      <td>71.155978</td>\n",
              "    </tr>\n",
              "    <tr>\n",
              "      <th>155</th>\n",
              "      <td>Volvo</td>\n",
              "      <td>C70</td>\n",
              "      <td>3.493</td>\n",
              "      <td>Passenger</td>\n",
              "      <td>45.5</td>\n",
              "      <td>2.3</td>\n",
              "      <td>236.0</td>\n",
              "      <td>104.9</td>\n",
              "      <td>71.5</td>\n",
              "      <td>185.7</td>\n",
              "      <td>3.601</td>\n",
              "      <td>18.5</td>\n",
              "      <td>23.0</td>\n",
              "      <td>4/26/2011</td>\n",
              "      <td>101.623357</td>\n",
              "    </tr>\n",
              "    <tr>\n",
              "      <th>156</th>\n",
              "      <td>Volvo</td>\n",
              "      <td>S80</td>\n",
              "      <td>18.969</td>\n",
              "      <td>Passenger</td>\n",
              "      <td>36.0</td>\n",
              "      <td>2.9</td>\n",
              "      <td>201.0</td>\n",
              "      <td>109.9</td>\n",
              "      <td>72.1</td>\n",
              "      <td>189.8</td>\n",
              "      <td>3.600</td>\n",
              "      <td>21.1</td>\n",
              "      <td>24.0</td>\n",
              "      <td>11/14/2011</td>\n",
              "      <td>85.735655</td>\n",
              "    </tr>\n",
              "  </tbody>\n",
              "</table>\n",
              "</div>\n",
              "      <button class=\"colab-df-convert\" onclick=\"convertToInteractive('df-676276bc-4ad9-4efd-a3cc-604202621850')\"\n",
              "              title=\"Convert this dataframe to an interactive table.\"\n",
              "              style=\"display:none;\">\n",
              "        \n",
              "  <svg xmlns=\"http://www.w3.org/2000/svg\" height=\"24px\"viewBox=\"0 0 24 24\"\n",
              "       width=\"24px\">\n",
              "    <path d=\"M0 0h24v24H0V0z\" fill=\"none\"/>\n",
              "    <path d=\"M18.56 5.44l.94 2.06.94-2.06 2.06-.94-2.06-.94-.94-2.06-.94 2.06-2.06.94zm-11 1L8.5 8.5l.94-2.06 2.06-.94-2.06-.94L8.5 2.5l-.94 2.06-2.06.94zm10 10l.94 2.06.94-2.06 2.06-.94-2.06-.94-.94-2.06-.94 2.06-2.06.94z\"/><path d=\"M17.41 7.96l-1.37-1.37c-.4-.4-.92-.59-1.43-.59-.52 0-1.04.2-1.43.59L10.3 9.45l-7.72 7.72c-.78.78-.78 2.05 0 2.83L4 21.41c.39.39.9.59 1.41.59.51 0 1.02-.2 1.41-.59l7.78-7.78 2.81-2.81c.8-.78.8-2.07 0-2.86zM5.41 20L4 18.59l7.72-7.72 1.47 1.35L5.41 20z\"/>\n",
              "  </svg>\n",
              "      </button>\n",
              "      \n",
              "  <style>\n",
              "    .colab-df-container {\n",
              "      display:flex;\n",
              "      flex-wrap:wrap;\n",
              "      gap: 12px;\n",
              "    }\n",
              "\n",
              "    .colab-df-convert {\n",
              "      background-color: #E8F0FE;\n",
              "      border: none;\n",
              "      border-radius: 50%;\n",
              "      cursor: pointer;\n",
              "      display: none;\n",
              "      fill: #1967D2;\n",
              "      height: 32px;\n",
              "      padding: 0 0 0 0;\n",
              "      width: 32px;\n",
              "    }\n",
              "\n",
              "    .colab-df-convert:hover {\n",
              "      background-color: #E2EBFA;\n",
              "      box-shadow: 0px 1px 2px rgba(60, 64, 67, 0.3), 0px 1px 3px 1px rgba(60, 64, 67, 0.15);\n",
              "      fill: #174EA6;\n",
              "    }\n",
              "\n",
              "    [theme=dark] .colab-df-convert {\n",
              "      background-color: #3B4455;\n",
              "      fill: #D2E3FC;\n",
              "    }\n",
              "\n",
              "    [theme=dark] .colab-df-convert:hover {\n",
              "      background-color: #434B5C;\n",
              "      box-shadow: 0px 1px 3px 1px rgba(0, 0, 0, 0.15);\n",
              "      filter: drop-shadow(0px 1px 2px rgba(0, 0, 0, 0.3));\n",
              "      fill: #FFFFFF;\n",
              "    }\n",
              "  </style>\n",
              "\n",
              "      <script>\n",
              "        const buttonEl =\n",
              "          document.querySelector('#df-676276bc-4ad9-4efd-a3cc-604202621850 button.colab-df-convert');\n",
              "        buttonEl.style.display =\n",
              "          google.colab.kernel.accessAllowed ? 'block' : 'none';\n",
              "\n",
              "        async function convertToInteractive(key) {\n",
              "          const element = document.querySelector('#df-676276bc-4ad9-4efd-a3cc-604202621850');\n",
              "          const dataTable =\n",
              "            await google.colab.kernel.invokeFunction('convertToInteractive',\n",
              "                                                     [key], {});\n",
              "          if (!dataTable) return;\n",
              "\n",
              "          const docLinkHtml = 'Like what you see? Visit the ' +\n",
              "            '<a target=\"_blank\" href=https://colab.research.google.com/notebooks/data_table.ipynb>data table notebook</a>'\n",
              "            + ' to learn more about interactive tables.';\n",
              "          element.innerHTML = '';\n",
              "          dataTable['output_type'] = 'display_data';\n",
              "          await google.colab.output.renderOutput(dataTable, element);\n",
              "          const docLink = document.createElement('div');\n",
              "          docLink.innerHTML = docLinkHtml;\n",
              "          element.appendChild(docLink);\n",
              "        }\n",
              "      </script>\n",
              "    </div>\n",
              "  </div>\n",
              "  "
            ]
          },
          "metadata": {},
          "execution_count": 45
        }
      ]
    },
    {
      "cell_type": "markdown",
      "source": [
        "Creating a graphic comparing the different Volvo Models vs the amount Sold of each car (in thousands) "
      ],
      "metadata": {
        "id": "8EIuvW1_w2lW"
      }
    },
    {
      "cell_type": "code",
      "source": [
        "import matplotlib.pyplot as plt "
      ],
      "metadata": {
        "id": "c6ZwEA0gx8Vh"
      },
      "execution_count": 46,
      "outputs": []
    },
    {
      "cell_type": "code",
      "source": [
        "model = volvo_data['Model']\n",
        "sales = volvo_data['Sales_in_thousands']\n",
        "\n",
        "plt.bar(model, sales)\n",
        "plt.show()"
      ],
      "metadata": {
        "id": "xYaIzsVoyrNa",
        "colab": {
          "base_uri": "https://localhost:8080/",
          "height": 430
        },
        "outputId": "bf2b4944-e348-4ec6-dd4c-c8bf39069f48"
      },
      "execution_count": 47,
      "outputs": [
        {
          "output_type": "display_data",
          "data": {
            "text/plain": [
              "<Figure size 640x480 with 1 Axes>"
            ],
            "image/png": "[encoded data removed]"
          },
          "metadata": {}
        }
      ]
    },
    {
      "cell_type": "code",
      "source": [
        "data.corr()['Price_in_thousands'].sort_values()"
      ],
      "metadata": {
        "id": "KKXxAHnfeiiM",
        "colab": {
          "base_uri": "https://localhost:8080/"
        },
        "outputId": "5f48272a-6de1-499c-982b-91f484b9106c"
      },
      "execution_count": 48,
      "outputs": [
        {
          "output_type": "execute_result",
          "data": {
            "text/plain": [
              "Fuel_efficiency      -0.492140\n",
              "Sales_in_thousands   -0.304413\n",
              "Wheelbase             0.110510\n",
              "Length                0.156874\n",
              "Width                 0.329109\n",
              "Fuel_capacity         0.422165\n",
              "Curb_weight           0.523753\n",
              "Engine_size           0.624777\n",
              "Horsepower            0.837372\n",
              "Power_perf_factor     0.897945\n",
              "Price_in_thousands    1.000000\n",
              "Name: Price_in_thousands, dtype: float64"
            ]
          },
          "metadata": {},
          "execution_count": 48
        }
      ]
    },
    {
      "cell_type": "markdown",
      "source": [
        "## Creating Combo Chart Visualizations\n",
        "\n",
        "To create our visualizations we used the Dataset called CarSales, which shows various stats about car model sales.\n",
        "\n",
        "We grouped our data by car manufacturers and then decided to use Volve for our analysis."
      ],
      "metadata": {
        "id": "vd6ZA38cxBax"
      }
    },
    {
      "cell_type": "markdown",
      "source": [
        "### Creating the Combo Chart using **matplotlib**\n",
        "\n"
      ],
      "metadata": {
        "id": "woqSW_Q7Vern"
      }
    },
    {
      "cell_type": "markdown",
      "source": [
        "Description:\n",
        "\n",
        "For this chart we are using Matplotlib to create a combo chart showing the relationship between the amount of sales and price of the different models of Volvo Cars. \n",
        "\n",
        "We plot the different models along the x axis and have the sales (in thousands) on the left y axis and the price (in thousands) on the right y axis.\n",
        "\n",
        "Price is displayed as a bar chart and Sales is shown as a line graph on top of the bars.\n"
      ],
      "metadata": {
        "id": "JPkx5GA-dfOI"
      }
    },
    {
      "cell_type": "code",
      "source": [
        "# -1- Implementing Combo Chart Using matplotlib\n",
        "\n",
        "import matplotlib.pyplot as plt\n",
        "\n",
        "df = data[data['Manufacturer']=='Volvo']\n",
        "\n",
        "# Create sample data\n",
        "x = df['Model']\n",
        "y1 = df['Sales_in_thousands']\n",
        "y2 = df['Price_in_thousands']\n",
        "\n",
        "# Create the figure and axis objects\n",
        "fig, ax1 = plt.subplots()\n",
        "\n",
        "# Create the first axis (left y-axis)\n",
        "ax1.set_xlabel('Model')\n",
        "ax1.set_ylabel('Sales in thousands')\n",
        "ax1.plot(x, y1, color='blue')\n",
        "ax1.tick_params(axis='y', labelcolor='blue')\n",
        "\n",
        "# Create the second axis (right y-axis)\n",
        "ax2 = ax1.twinx()\n",
        "ax2.set_ylabel('Price in thousands')\n",
        "ax2.bar(x, y2, color='red', alpha=0.5)\n",
        "ax2.tick_params(axis='y', labelcolor='red')\n",
        "\n",
        "# Add legend\n",
        "ax1.legend(['Sales in thousands'], loc='upper left')\n",
        "ax2.legend(['Price in thousands'], loc='upper right')\n",
        "\n",
        "plt.title('Sales_in_thousands & Price_in_thousands vs Volvo Models using Matplotlib')\n",
        "\n",
        "plt.show()"
      ],
      "metadata": {
        "id": "rLsI507wSEvP",
        "colab": {
          "base_uri": "https://localhost:8080/",
          "height": 472
        },
        "outputId": "f58a8444-a967-457a-9d6a-a0f11a52c8ff"
      },
      "execution_count": 49,
      "outputs": [
        {
          "output_type": "display_data",
          "data": {
            "text/plain": [
              "<Figure size 640x480 with 2 Axes>"
            ],
            "image/png": "[encoded data removed]"
          },
          "metadata": {}
        }
      ]
    },
    {
      "cell_type": "markdown",
      "source": [
        "### Implementing Combo Chart Using **Seaborn**"
      ],
      "metadata": {
        "id": "gj8BYt66TsWb"
      }
    },
    {
      "cell_type": "markdown",
      "source": [
        "Description:\n",
        "\n",
        "For this chart we are using Seaborn to create a combo chart showing the relationship between the amount of sales and price of the different models of Volvo Cars.\n",
        "\n",
        "We plot the different models along the x axis and have the sales (in thousands) on the left y axis and the price (in thousands) on the right y axis.\n",
        "\n",
        "Price is displayed as a bar chart and Sales is shown as a line graph on top of the bars"
      ],
      "metadata": {
        "id": "kHp13GBjOJPO"
      }
    },
    {
      "cell_type": "code",
      "source": [
        "import seaborn as sns\n",
        "import matplotlib.pyplot as plt\n",
        "\n",
        "df = data[data['Manufacturer']=='Volvo']\n",
        "\n",
        "# Create the figure and axis objects\n",
        "fig, ax1 = plt.subplots()\n",
        "\n",
        "# Create the first axis (left y-axis)\n",
        "sns.lineplot(data=df, x='Model', y='Sales_in_thousands', ax=ax1)\n",
        "\n",
        "# Create the second axis (right y-axis)\n",
        "ax2 = ax1.twinx()\n",
        "sns.barplot(data=df, x='Model', y='Price_in_thousands', ax=ax2, alpha=0.5)\n",
        "\n",
        "# Set labels\n",
        "ax1.set_xlabel('Model')\n",
        "ax1.set_ylabel('Sales In Thousands')\n",
        "ax2.set_ylabel('Price In Thousands')\n",
        "\n",
        "# Add legend\n",
        "ax1.legend(['Sales in thousands'], loc='upper left')\n",
        "ax2.legend(['Price in thousands'], loc='upper right')\n",
        "\n",
        "plt.title('Sales_in_thousands & Price_in_thousands vs Volvo Models using Seaborn')\n",
        "plt.show()"
      ],
      "metadata": {
        "id": "-lK9dlF5Tycd",
        "colab": {
          "base_uri": "https://localhost:8080/",
          "height": 472
        },
        "outputId": "5e94e9f6-98fe-4057-eda7-eacf1bc87221"
      },
      "execution_count": 50,
      "outputs": [
        {
          "output_type": "display_data",
          "data": {
            "text/plain": [
              "<Figure size 640x480 with 2 Axes>"
            ],
            "image/png": "[encoded data removed]"
          },
          "metadata": {}
        }
      ]
    },
    {
      "cell_type": "markdown",
      "source": [
        "### Implementing Combo Chart Using **Plotly**"
      ],
      "metadata": {
        "id": "d-2r3Ih1U92G"
      }
    },
    {
      "cell_type": "markdown",
      "source": [
        "Description:\n",
        "\n",
        "For this chart we are using Plotly to create a combo chart showing the relationship between the amount of sales and price of the different models of Volvo Cars.\n",
        "\n",
        "We plot the different models along the x axis and have the sales (in thousands) along with the price (in thousands) on the y axis.\n",
        "\n",
        "The scale of the y axis is different for this chart since we are showing both sales and price (in thousands) on the same axis. \n",
        "\n",
        "Price is displayed as a bar chart and Sales is shown as a line graph on top of the bars"
      ],
      "metadata": {
        "id": "r1ZT0cQpOf89"
      }
    },
    {
      "cell_type": "code",
      "source": [
        "import plotly.graph_objects as go\n",
        "import pandas as pd\n",
        "\n",
        "# Load sample data\n",
        "df = data[data['Manufacturer']=='Volvo']\n",
        "\n",
        "# Create the figure object\n",
        "fig = go.Figure()\n",
        "\n",
        "# Create the first trace (line chart)\n",
        "fig.add_trace(go.Scatter(x=df['Model'], y=df['Sales_in_thousands'], mode='lines', name='Sales Vs Model'))\n",
        "\n",
        "# Create the second trace (bar chart)\n",
        "fig.add_trace(go.Bar(x=df['Model'], y=df['Price_in_thousands'], name='Price Vs Model'))\n",
        "\n",
        "# Set layout\n",
        "fig.update_layout(title='Sales_in_thousands & Price_in_thousands vs Volvo Models using Plotly', yaxis_title='Scale in thousands', xaxis_title='Model')\n",
        "\n",
        "fig.show()"
      ],
      "metadata": {
        "id": "0rTT6ZH6U-V2",
        "colab": {
          "base_uri": "https://localhost:8080/",
          "height": 542
        },
        "outputId": "b99c008d-884f-46cc-a70a-2e8ce392ded4"
      },
      "execution_count": 51,
      "outputs": [
        {
          "output_type": "display_data",
          "data": {
            "text/html": [
              "<html>\n",
              "<head><meta charset=\"utf-8\" /></head>\n",
              "<body>\n",
              "    <div>            <script src=\"https://cdnjs.cloudflare.com/ajax/libs/mathjax/2.7.5/MathJax.js?config=TeX-AMS-MML_SVG\"></script><script type=\"text/javascript\">if (window.MathJax && window.MathJax.Hub && window.MathJax.Hub.Config) {window.MathJax.Hub.Config({SVG: {font: \"STIX-Web\"}});}</script>                <script type=\"text/javascript\">window.PlotlyConfig = {MathJaxConfig: 'local'};</script>\n",
              "        <script src=\"https://cdn.plot.ly/plotly-2.18.2.min.js\"></script>                <div id=\"06024ca6-e93c-4fc4-b26d-73074d74857e\" class=\"plotly-graph-div\" style=\"height:525px; width:100%;\"></div>            <script type=\"text/javascript\">                                    window.PLOTLYENV=window.PLOTLYENV || {};                                    if (document.getElementById(\"06024ca6-e93c-4fc4-b26d-73074d74857e\")) {                    Plotly.newPlot(                        \"06024ca6-e93c-4fc4-b26d-73074d74857e\",                        [{\"mode\":\"lines\",\"name\":\"Sales Vs Model\",\"x\":[\"S40\",\"V40\",\"S70\",\"V70\",\"C70\",\"S80\"],\"y\":[16.957,3.545,15.245,17.531,3.493,18.969],\"type\":\"scatter\"},{\"name\":\"Price Vs Model\",\"x\":[\"S40\",\"V40\",\"S70\",\"V70\",\"C70\",\"S80\"],\"y\":[23.4,24.4,27.5,28.8,45.5,36.0],\"type\":\"bar\"}],                        {\"template\":{\"data\":{\"histogram2dcontour\":[{\"type\":\"histogram2dcontour\",\"colorbar\":{\"outlinewidth\":0,\"ticks\":\"\"},\"colorscale\":[[0.0,\"#0d0887\"],[0.1111111111111111,\"#46039f\"],[0.2222222222222222,\"#7201a8\"],[0.3333333333333333,\"#9c179e\"],[0.4444444444444444,\"#bd3786\"],[0.5555555555555556,\"#d8576b\"],[0.6666666666666666,\"#ed7953\"],[0.7777777777777778,\"#fb9f3a\"],[0.8888888888888888,\"#fdca26\"],[1.0,\"#f0f921\"]]}],\"choropleth\":[{\"type\":\"choropleth\",\"colorbar\":{\"outlinewidth\":0,\"ticks\":\"\"}}],\"histogram2d\":[{\"type\":\"histogram2d\",\"colorbar\":{\"outlinewidth\":0,\"ticks\":\"\"},\"colorscale\":[[0.0,\"#0d0887\"],[0.1111111111111111,\"#46039f\"],[0.2222222222222222,\"#7201a8\"],[0.3333333333333333,\"#9c179e\"],[0.4444444444444444,\"#bd3786\"],[0.5555555555555556,\"#d8576b\"],[0.6666666666666666,\"#ed7953\"],[0.7777777777777778,\"#fb9f3a\"],[0.8888888888888888,\"#fdca26\"],[1.0,\"#f0f921\"]]}],\"heatmap\":[{\"type\":\"heatmap\",\"colorbar\":{\"outlinewidth\":0,\"ticks\":\"\"},\"colorscale\":[[0.0,\"#0d0887\"],[0.1111111111111111,\"#46039f\"],[0.2222222222222222,\"#7201a8\"],[0.3333333333333333,\"#9c179e\"],[0.4444444444444444,\"#bd3786\"],[0.5555555555555556,\"#d8576b\"],[0.6666666666666666,\"#ed7953\"],[0.7777777777777778,\"#fb9f3a\"],[0.8888888888888888,\"#fdca26\"],[1.0,\"#f0f921\"]]}],\"heatmapgl\":[{\"type\":\"heatmapgl\",\"colorbar\":{\"outlinewidth\":0,\"ticks\":\"\"},\"colorscale\":[[0.0,\"#0d0887\"],[0.1111111111111111,\"#46039f\"],[0.2222222222222222,\"#7201a8\"],[0.3333333333333333,\"#9c179e\"],[0.4444444444444444,\"#bd3786\"],[0.5555555555555556,\"#d8576b\"],[0.6666666666666666,\"#ed7953\"],[0.7777777777777778,\"#fb9f3a\"],[0.8888888888888888,\"#fdca26\"],[1.0,\"#f0f921\"]]}],\"contourcarpet\":[{\"type\":\"contourcarpet\",\"colorbar\":{\"outlinewidth\":0,\"ticks\":\"\"}}],\"contour\":[{\"type\":\"contour\",\"colorbar\":{\"outlinewidth\":0,\"ticks\":\"\"},\"colorscale\":[[0.0,\"#0d0887\"],[0.1111111111111111,\"#46039f\"],[0.2222222222222222,\"#7201a8\"],[0.3333333333333333,\"#9c179e\"],[0.4444444444444444,\"#bd3786\"],[0.5555555555555556,\"#d8576b\"],[0.6666666666666666,\"#ed7953\"],[0.7777777777777778,\"#fb9f3a\"],[0.8888888888888888,\"#fdca26\"],[1.0,\"#f0f921\"]]}],\"surface\":[{\"type\":\"surface\",\"colorbar\":{\"outlinewidth\":0,\"ticks\":\"\"},\"colorscale\":[[0.0,\"#0d0887\"],[0.1111111111111111,\"#46039f\"],[0.2222222222222222,\"#7201a8\"],[0.3333333333333333,\"#9c179e\"],[0.4444444444444444,\"#bd3786\"],[0.5555555555555556,\"#d8576b\"],[0.6666666666666666,\"#ed7953\"],[0.7777777777777778,\"#fb9f3a\"],[0.8888888888888888,\"#fdca26\"],[1.0,\"#f0f921\"]]}],\"mesh3d\":[{\"type\":\"mesh3d\",\"colorbar\":{\"outlinewidth\":0,\"ticks\":\"\"}}],\"scatter\":[{\"fillpattern\":{\"fillmode\":\"overlay\",\"size\":10,\"solidity\":0.2},\"type\":\"scatter\"}],\"parcoords\":[{\"type\":\"parcoords\",\"line\":{\"colorbar\":{\"outlinewidth\":0,\"ticks\":\"\"}}}],\"scatterpolargl\":[{\"type\":\"scatterpolargl\",\"marker\":{\"colorbar\":{\"outlinewidth\":0,\"ticks\":\"\"}}}],\"bar\":[{\"error_x\":{\"color\":\"#2a3f5f\"},\"error_y\":{\"color\":\"#2a3f5f\"},\"marker\":{\"line\":{\"color\":\"#E5ECF6\",\"width\":0.5},\"pattern\":{\"fillmode\":\"overlay\",\"size\":10,\"solidity\":0.2}},\"type\":\"bar\"}],\"scattergeo\":[{\"type\":\"scattergeo\",\"marker\":{\"colorbar\":{\"outlinewidth\":0,\"ticks\":\"\"}}}],\"scatterpolar\":[{\"type\":\"scatterpolar\",\"marker\":{\"colorbar\":{\"outlinewidth\":0,\"ticks\":\"\"}}}],\"histogram\":[{\"marker\":{\"pattern\":{\"fillmode\":\"overlay\",\"size\":10,\"solidity\":0.2}},\"type\":\"histogram\"}],\"scattergl\":[{\"type\":\"scattergl\",\"marker\":{\"colorbar\":{\"outlinewidth\":0,\"ticks\":\"\"}}}],\"scatter3d\":[{\"type\":\"scatter3d\",\"line\":{\"colorbar\":{\"outlinewidth\":0,\"ticks\":\"\"}},\"marker\":{\"colorbar\":{\"outlinewidth\":0,\"ticks\":\"\"}}}],\"scattermapbox\":[{\"type\":\"scattermapbox\",\"marker\":{\"colorbar\":{\"outlinewidth\":0,\"ticks\":\"\"}}}],\"scatterternary\":[{\"type\":\"scatterternary\",\"marker\":{\"colorbar\":{\"outlinewidth\":0,\"ticks\":\"\"}}}],\"scattercarpet\":[{\"type\":\"scattercarpet\",\"marker\":{\"colorbar\":{\"outlinewidth\":0,\"ticks\":\"\"}}}],\"carpet\":[{\"aaxis\":{\"endlinecolor\":\"#2a3f5f\",\"gridcolor\":\"white\",\"linecolor\":\"white\",\"minorgridcolor\":\"white\",\"startlinecolor\":\"#2a3f5f\"},\"baxis\":{\"endlinecolor\":\"#2a3f5f\",\"gridcolor\":\"white\",\"linecolor\":\"white\",\"minorgridcolor\":\"white\",\"startlinecolor\":\"#2a3f5f\"},\"type\":\"carpet\"}],\"table\":[{\"cells\":{\"fill\":{\"color\":\"#EBF0F8\"},\"line\":{\"color\":\"white\"}},\"header\":{\"fill\":{\"color\":\"#C8D4E3\"},\"line\":{\"color\":\"white\"}},\"type\":\"table\"}],\"barpolar\":[{\"marker\":{\"line\":{\"color\":\"#E5ECF6\",\"width\":0.5},\"pattern\":{\"fillmode\":\"overlay\",\"size\":10,\"solidity\":0.2}},\"type\":\"barpolar\"}],\"pie\":[{\"automargin\":true,\"type\":\"pie\"}]},\"layout\":{\"autotypenumbers\":\"strict\",\"colorway\":[\"#636efa\",\"#EF553B\",\"#00cc96\",\"#ab63fa\",\"#FFA15A\",\"#19d3f3\",\"#FF6692\",\"#B6E880\",\"#FF97FF\",\"#FECB52\"],\"font\":{\"color\":\"#2a3f5f\"},\"hovermode\":\"closest\",\"hoverlabel\":{\"align\":\"left\"},\"paper_bgcolor\":\"white\",\"plot_bgcolor\":\"#E5ECF6\",\"polar\":{\"bgcolor\":\"#E5ECF6\",\"angularaxis\":{\"gridcolor\":\"white\",\"linecolor\":\"white\",\"ticks\":\"\"},\"radialaxis\":{\"gridcolor\":\"white\",\"linecolor\":\"white\",\"ticks\":\"\"}},\"ternary\":{\"bgcolor\":\"#E5ECF6\",\"aaxis\":{\"gridcolor\":\"white\",\"linecolor\":\"white\",\"ticks\":\"\"},\"baxis\":{\"gridcolor\":\"white\",\"linecolor\":\"white\",\"ticks\":\"\"},\"caxis\":{\"gridcolor\":\"white\",\"linecolor\":\"white\",\"ticks\":\"\"}},\"coloraxis\":{\"colorbar\":{\"outlinewidth\":0,\"ticks\":\"\"}},\"colorscale\":{\"sequential\":[[0.0,\"#0d0887\"],[0.1111111111111111,\"#46039f\"],[0.2222222222222222,\"#7201a8\"],[0.3333333333333333,\"#9c179e\"],[0.4444444444444444,\"#bd3786\"],[0.5555555555555556,\"#d8576b\"],[0.6666666666666666,\"#ed7953\"],[0.7777777777777778,\"#fb9f3a\"],[0.8888888888888888,\"#fdca26\"],[1.0,\"#f0f921\"]],\"sequentialminus\":[[0.0,\"#0d0887\"],[0.1111111111111111,\"#46039f\"],[0.2222222222222222,\"#7201a8\"],[0.3333333333333333,\"#9c179e\"],[0.4444444444444444,\"#bd3786\"],[0.5555555555555556,\"#d8576b\"],[0.6666666666666666,\"#ed7953\"],[0.7777777777777778,\"#fb9f3a\"],[0.8888888888888888,\"#fdca26\"],[1.0,\"#f0f921\"]],\"diverging\":[[0,\"#8e0152\"],[0.1,\"#c51b7d\"],[0.2,\"#de77ae\"],[0.3,\"#f1b6da\"],[0.4,\"#fde0ef\"],[0.5,\"#f7f7f7\"],[0.6,\"#e6f5d0\"],[0.7,\"#b8e186\"],[0.8,\"#7fbc41\"],[0.9,\"#4d9221\"],[1,\"#276419\"]]},\"xaxis\":{\"gridcolor\":\"white\",\"linecolor\":\"white\",\"ticks\":\"\",\"title\":{\"standoff\":15},\"zerolinecolor\":\"white\",\"automargin\":true,\"zerolinewidth\":2},\"yaxis\":{\"gridcolor\":\"white\",\"linecolor\":\"white\",\"ticks\":\"\",\"title\":{\"standoff\":15},\"zerolinecolor\":\"white\",\"automargin\":true,\"zerolinewidth\":2},\"scene\":{\"xaxis\":{\"backgroundcolor\":\"#E5ECF6\",\"gridcolor\":\"white\",\"linecolor\":\"white\",\"showbackground\":true,\"ticks\":\"\",\"zerolinecolor\":\"white\",\"gridwidth\":2},\"yaxis\":{\"backgroundcolor\":\"#E5ECF6\",\"gridcolor\":\"white\",\"linecolor\":\"white\",\"showbackground\":true,\"ticks\":\"\",\"zerolinecolor\":\"white\",\"gridwidth\":2},\"zaxis\":{\"backgroundcolor\":\"#E5ECF6\",\"gridcolor\":\"white\",\"linecolor\":\"white\",\"showbackground\":true,\"ticks\":\"\",\"zerolinecolor\":\"white\",\"gridwidth\":2}},\"shapedefaults\":{\"line\":{\"color\":\"#2a3f5f\"}},\"annotationdefaults\":{\"arrowcolor\":\"#2a3f5f\",\"arrowhead\":0,\"arrowwidth\":1},\"geo\":{\"bgcolor\":\"white\",\"landcolor\":\"#E5ECF6\",\"subunitcolor\":\"white\",\"showland\":true,\"showlakes\":true,\"lakecolor\":\"white\"},\"title\":{\"x\":0.05},\"mapbox\":{\"style\":\"light\"}}},\"title\":{\"text\":\"Sales_in_thousands & Price_in_thousands vs Volvo Models using Plotly\"},\"yaxis\":{\"title\":{\"text\":\"Scale in thousands\"}},\"xaxis\":{\"title\":{\"text\":\"Model\"}}},                        {\"responsive\": true}                    ).then(function(){\n",
              "                            \n",
              "var gd = document.getElementById('06024ca6-e93c-4fc4-b26d-73074d74857e');\n",
              "var x = new MutationObserver(function (mutations, observer) {{\n",
              "        var display = window.getComputedStyle(gd).display;\n",
              "        if (!display || display === 'none') {{\n",
              "            console.log([gd, 'removed!']);\n",
              "            Plotly.purge(gd);\n",
              "            observer.disconnect();\n",
              "        }}\n",
              "}});\n",
              "\n",
              "// Listen for the removal of the full notebook cells\n",
              "var notebookContainer = gd.closest('#notebook-container');\n",
              "if (notebookContainer) {{\n",
              "    x.observe(notebookContainer, {childList: true});\n",
              "}}\n",
              "\n",
              "// Listen for the clearing of the current output cell\n",
              "var outputEl = gd.closest('.output');\n",
              "if (outputEl) {{\n",
              "    x.observe(outputEl, {childList: true});\n",
              "}}\n",
              "\n",
              "                        })                };                            </script>        </div>\n",
              "</body>\n",
              "</html>"
            ]
          },
          "metadata": {}
        }
      ]
    },
    {
      "cell_type": "markdown",
      "source": [
        "**In Conclusion:** \n",
        "\n",
        "In this project, we worked with the CarSales dataser. We created 3 Combo Chart Visualizations comparing the Sales_in_thousands and Price_in_thousands variables for different Models of Volvo cars. \n",
        "\n",
        "We grouped our data by Manufacturers and then decided to just look at Volve Models for our analysis. Using the **Matplotlib**, **Seaborn**, and **Plotly** libraries we generated our combo charts with Sales_in_thousands and Price_in_thousands in our y-axis and Volvo Models along the x-axis.\n",
        "\n",
        "Comparing the visualizations we made using the 3 different libraries, we decided that using the **Plotly** library was our preferred method. This was the best choice for us since we enjoyed the interactiveness of the chart and the scaling the y-axis differed from the other charts. With Plotly, it changed the scale used in the y-axis to include both our variables instead of having two separate y-axises plotted at the same time. "
      ],
      "metadata": {
        "id": "Cjvp0QoBgTxj"
      }
    },
    {
      "cell_type": "markdown",
      "source": [
        "### Analysis of Results from Charts"
      ],
      "metadata": {
        "id": "JCgnyzO5JpaF"
      }
    },
    {
      "cell_type": "markdown",
      "source": [
        "From the charts above, we can see that generally if the price of a car model is high then the sales will tend to be lower, although there are instances where this isn't true. To see why that would be the case requires some further analysis.\n",
        "\n",
        "In the future if we were to continue analysis of this data further, a few things we could do are:\n",
        "  - Create visualizations for comparing Sales and Price for car Models of the other car Manufacturers\n",
        "  - Test which other variables have an effect on the price variable\n"
      ],
      "metadata": {
        "id": "G0aXil3kKVDY"
      }
    },
    {
      "cell_type": "markdown",
      "source": [
        "## Creating a Waffle Chart\n",
        "\n",
        "Using the same Dataset, CarSales, we create a waffle chart to visualize the variable 'Vehicle_type'"
      ],
      "metadata": {
        "id": "792IZfA9-Iqp"
      }
    },
    {
      "cell_type": "code",
      "source": [
        "data['Vehicle_type'].unique()"
      ],
      "metadata": {
        "id": "DFy7lUJ-zcDZ",
        "colab": {
          "base_uri": "https://localhost:8080/"
        },
        "outputId": "658edb14-3948-4c35-9be3-62546092724d"
      },
      "execution_count": 52,
      "outputs": [
        {
          "output_type": "execute_result",
          "data": {
            "text/plain": [
              "array(['Passenger', 'Car'], dtype=object)"
            ]
          },
          "metadata": {},
          "execution_count": 52
        }
      ]
    },
    {
      "cell_type": "markdown",
      "source": [
        "Importing the Library to build our Waffle Chart"
      ],
      "metadata": {
        "id": "31LkD4ihAby7"
      }
    },
    {
      "cell_type": "code",
      "source": [
        "!pip install pywaffle\n",
        "#from pywaffle import Waffle"
      ],
      "metadata": {
        "id": "63vEiYTxz-Ue",
        "colab": {
          "base_uri": "https://localhost:8080/"
        },
        "outputId": "27501f06-bc31-476f-ba77-026250844973"
      },
      "execution_count": 53,
      "outputs": [
        {
          "output_type": "stream",
          "name": "stdout",
          "text": [
            "Looking in indexes: https://pypi.org/simple, https://us-python.pkg.dev/colab-wheels/public/simple/\n",
            "Collecting pywaffle\n",
            "  Downloading pywaffle-1.1.0-py2.py3-none-any.whl (30 kB)\n",
            "Collecting fontawesomefree\n",
            "  Downloading fontawesomefree-6.4.0-py3-none-any.whl (25.2 MB)\n",
            "\u001b[2K     \u001b[90m━━━━━━━━━━━━━━━━━━━━━━━━━━━━━━━━━━━━━━━━\u001b[0m \u001b[32m25.2/25.2 MB\u001b[0m \u001b[31m34.0 MB/s\u001b[0m eta \u001b[36m0:00:00\u001b[0m\n",
            "\u001b[?25hRequirement already satisfied: matplotlib in /usr/local/lib/python3.9/dist-packages (from pywaffle) (3.7.1)\n",
            "Requirement already satisfied: contourpy>=1.0.1 in /usr/local/lib/python3.9/dist-packages (from matplotlib->pywaffle) (1.0.7)\n",
            "Requirement already satisfied: kiwisolver>=1.0.1 in /usr/local/lib/python3.9/dist-packages (from matplotlib->pywaffle) (1.4.4)\n",
            "Requirement already satisfied: packaging>=20.0 in /usr/local/lib/python3.9/dist-packages (from matplotlib->pywaffle) (23.0)\n",
            "Requirement already satisfied: cycler>=0.10 in /usr/local/lib/python3.9/dist-packages (from matplotlib->pywaffle) (0.11.0)\n",
            "Requirement already satisfied: numpy>=1.20 in /usr/local/lib/python3.9/dist-packages (from matplotlib->pywaffle) (1.22.4)\n",
            "Requirement already satisfied: pyparsing>=2.3.1 in /usr/local/lib/python3.9/dist-packages (from matplotlib->pywaffle) (3.0.9)\n",
            "Requirement already satisfied: importlib-resources>=3.2.0 in /usr/local/lib/python3.9/dist-packages (from matplotlib->pywaffle) (5.12.0)\n",
            "Requirement already satisfied: fonttools>=4.22.0 in /usr/local/lib/python3.9/dist-packages (from matplotlib->pywaffle) (4.39.3)\n",
            "Requirement already satisfied: python-dateutil>=2.7 in /usr/local/lib/python3.9/dist-packages (from matplotlib->pywaffle) (2.8.2)\n",
            "Requirement already satisfied: pillow>=6.2.0 in /usr/local/lib/python3.9/dist-packages (from matplotlib->pywaffle) (8.4.0)\n",
            "Requirement already satisfied: zipp>=3.1.0 in /usr/local/lib/python3.9/dist-packages (from importlib-resources>=3.2.0->matplotlib->pywaffle) (3.15.0)\n",
            "Requirement already satisfied: six>=1.5 in /usr/local/lib/python3.9/dist-packages (from python-dateutil>=2.7->matplotlib->pywaffle) (1.16.0)\n",
            "Installing collected packages: fontawesomefree, pywaffle\n",
            "Successfully installed fontawesomefree-6.4.0 pywaffle-1.1.0\n"
          ]
        }
      ]
    },
    {
      "cell_type": "code",
      "source": [
        "from pywaffle import Waffle\n",
        "\n",
        "# Data\n",
        "volv_df = data['Vehicle_type']\n",
        "value = volv_df.value_counts()\n",
        "\n",
        "value_dict = value.to_dict() \n",
        "#store each vehicle type and its count in a dictionary as this will help with the labels and legend for the waffle chart\n",
        "\n",
        "\n",
        "# Waffle chart\n",
        "plt.figure(\n",
        "    FigureClass = Waffle,\n",
        "    rows = 10,\n",
        "    values = value,\n",
        "    icons=['person', 'car-side'],\n",
        "    title = {'label':'Vehicle Type Waffle Chart',\n",
        "             'loc': 'left'}, labels=[f\"{k} ({(v / sum(value_dict.values()) * 100)})\" for k, v in value_dict.items()],\n",
        "    legend={\n",
        "        'loc': 'lower left',\n",
        "        'bbox_to_anchor': (0, -0.4),\n",
        "        'ncol': len(data),\n",
        "        'framealpha': 0,\n",
        "        'fontsize': 12\n",
        "    }), \n",
        "\n",
        "\n",
        "plt.show()"
      ],
      "metadata": {
        "id": "qrZ18pxL1TZX",
        "colab": {
          "base_uri": "https://localhost:8080/",
          "height": 450
        },
        "outputId": "217889ab-f0fd-45cc-c3fe-f3779423cf84"
      },
      "execution_count": 66,
      "outputs": [
        {
          "output_type": "display_data",
          "data": {
            "text/plain": [
              "<Waffle size 640x480 with 1 Axes>"
            ],
            "image/png": "[encoded data removed]"
          },
          "metadata": {}
        }
      ]
    },
    {
      "cell_type": "markdown",
      "source": [
        "The waffle chart we have generated shows us the frequency of the values in our Vehicle_type column. As you can see from the illustration, approximately 74% of the cars in our dataset are passenger vehicles, while the other 26% are just cars. "
      ],
      "metadata": {
        "id": "xrP-PWWxuY_R"
      }
    },
    {
      "cell_type": "markdown",
      "source": [
        "## Generating a Word Cloud\n",
        "\n",
        "Using the unique values in the Manucaturer column of our dataset, we create a word cloud to display which Manufacturers occur most in our data"
      ],
      "metadata": {
        "id": "9tuSyui-BxVr"
      }
    },
    {
      "cell_type": "code",
      "source": [
        "data['Manufacturer'].value_counts()"
      ],
      "metadata": {
        "id": "tVbjSceM2ViT",
        "colab": {
          "base_uri": "https://localhost:8080/"
        },
        "outputId": "b4860999-67bc-41b4-bddf-92d92097f4f3"
      },
      "execution_count": 55,
      "outputs": [
        {
          "output_type": "execute_result",
          "data": {
            "text/plain": [
              "Dodge         11\n",
              "Ford          11\n",
              "Toyota         9\n",
              "Chevrolet      9\n",
              "Mercedes-B     9\n",
              "Mitsubishi     7\n",
              "Nissan         7\n",
              "Chrysler       7\n",
              "Volvo          6\n",
              "Oldsmobile     6\n",
              "Lexus          6\n",
              "Mercury        6\n",
              "Pontiac        6\n",
              "Volkswagen     6\n",
              "Saturn         5\n",
              "Cadillac       5\n",
              "Honda          5\n",
              "Plymouth       4\n",
              "Acura          4\n",
              "Buick          4\n",
              "Audi           3\n",
              "Jeep           3\n",
              "Porsche        3\n",
              "Hyundai        3\n",
              "BMW            3\n",
              "Lincoln        3\n",
              "Saab           2\n",
              "Subaru         2\n",
              "Jaguar         1\n",
              "Infiniti       1\n",
              "Name: Manufacturer, dtype: int64"
            ]
          },
          "metadata": {},
          "execution_count": 55
        }
      ]
    },
    {
      "cell_type": "code",
      "source": [
        "from wordcloud import WordCloud\n",
        "#Importing Dataset\n",
        "\n",
        "#Creating the text variable\n",
        "text = \" \".join(cat for cat in data['Manufacturer'])\n",
        "\n",
        "# Creating word_cloud with text as argument in .generate() method\n",
        "word_cloud = WordCloud(collocations = False, background_color = 'white').generate(text)\n",
        "# Display the generated Word Cloud\n",
        "plt.imshow(word_cloud, interpolation='bilinear')\n",
        "plt.axis(\"off\")\n",
        "plt.show()"
      ],
      "metadata": {
        "id": "msuft5w23kdE",
        "colab": {
          "base_uri": "https://localhost:8080/",
          "height": 285
        },
        "outputId": "bc09d148-366d-4c5c-d5eb-b26c83188a44"
      },
      "execution_count": 56,
      "outputs": [
        {
          "output_type": "display_data",
          "data": {
            "text/plain": [
              "<Figure size 640x480 with 1 Axes>"
            ],
            "image/png": "[encoded data removed]"
          },
          "metadata": {}
        }
      ]
    },
    {
      "cell_type": "markdown",
      "source": [
        "The word cloud that we have created above displays the names of the various car manufacturers in our dataset. The names of the manufacturers that are large indicate that there's a higher proportion of those types of cars in our data than some of the smaller ones. \n",
        "\n",
        "Manufacturer is the only variable in our data that we could use to generate a word cloud since our data contains mostly only numerical values. "
      ],
      "metadata": {
        "id": "82txbhcRti3y"
      }
    },
    {
      "cell_type": "code",
      "source": [],
      "metadata": {
        "id": "1xhK5Do25SHd"
      },
      "execution_count": 56,
      "outputs": []
    }
  ]
}